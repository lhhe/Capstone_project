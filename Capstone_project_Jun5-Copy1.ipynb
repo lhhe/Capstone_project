{
 "cells": [
  {
   "cell_type": "markdown",
   "metadata": {},
   "source": [
    "<h1 align=\"center\">Predicting corn yields in the Corn Belt region of the USA using Machine Learning algorithms</h1> "
   ]
  },
  {
   "cell_type": "markdown",
   "metadata": {},
   "source": [
    "<h3 align=\"center\">Capstone project by Leonardo Hernandez-Espinoza during the Spring 2019 TDI program at Oakland, CA</h3> "
   ]
  },
  {
   "cell_type": "markdown",
   "metadata": {},
   "source": [
    "## What is the Corn Belt?\n",
    "\n",
    "The Corn Belt is a region of the Midwestern United States that, since the 1850s, has dominated corn production in the United States. For this project I am includiing: Illinois, Indiana, Iowa, Kansas, Minnesota, Misouri, Nebraska, Ohio, and South Dakota.\n",
    "\n",
    "\n",
    "<img src=\"cornbelt.jpg\">"
   ]
  },
  {
   "cell_type": "code",
   "execution_count": 1,
   "metadata": {},
   "outputs": [],
   "source": [
    "%matplotlib inline\n",
    "import matplotlib \n",
    "import seaborn as sns\n",
    "from  matplotlib import pyplot as plt\n",
    "import math\n",
    "from sklearn.metrics import mean_squared_error\n",
    "import statsmodels\n",
    "from statsmodels.api import OLS\n",
    "import pandas as pd\n",
    "import numpy as np\n",
    "import warnings\n",
    "warnings.filterwarnings('ignore')\n",
    "sns.set()\n",
    "sns.set_style(\"white\")\n",
    "matplotlib.rcParams['figure.dpi'] = 144"
   ]
  },
  {
   "cell_type": "markdown",
   "metadata": {},
   "source": [
    "The first part of this project was data collection. I obtained corn productivity data from the USDA National Agriculture Statistics Service (https://quickstats.nass.usda.gov/). I am interested in corn productivity on a per area basis. Therefore, I used bushel per acre as the productivity metric.\n",
    "\n",
    "For climate data, I used the Climate Engine (https://app.climateengine.org/) to obtain climate data for the period between January 1990 and December 2018. Instead of using yearly climate data, I restricted the analysis to data that corresponds to the corn growing season. For the corn belt region this is between the Julian days 100 and 305.\n",
    "\n",
    "I gathered data for each of the nine states. To download the data from the Climate Engine I divided each state in quadrants (to stay in the allowed download size). I combined the 36 files ( 9 states x 4 quadrants) into a pandas dataframe and then grouped by year and state to calculate means (each data point correspond to the average of the 4 quadrants)."
   ]
  },
  {
   "cell_type": "markdown",
   "metadata": {},
   "source": [
    "Once I had the climate data, I created a new dataframe to include the productivity value for each year in each state. Here I am just importing that prepared dataset."
   ]
  },
  {
   "cell_type": "code",
   "execution_count": 2,
   "metadata": {},
   "outputs": [],
   "source": [
    "\n",
    "c3 = pd.read_csv('Train_and_Test.csv')"
   ]
  },
  {
   "cell_type": "code",
   "execution_count": 3,
   "metadata": {},
   "outputs": [
    {
     "data": {
      "text/html": [
       "<div>\n",
       "<style scoped>\n",
       "    .dataframe tbody tr th:only-of-type {\n",
       "        vertical-align: middle;\n",
       "    }\n",
       "\n",
       "    .dataframe tbody tr th {\n",
       "        vertical-align: top;\n",
       "    }\n",
       "\n",
       "    .dataframe thead th {\n",
       "        text-align: right;\n",
       "    }\n",
       "</style>\n",
       "<table border=\"1\" class=\"dataframe\">\n",
       "  <thead>\n",
       "    <tr style=\"text-align: right;\">\n",
       "      <th></th>\n",
       "      <th>year</th>\n",
       "      <th>State</th>\n",
       "      <th>prcp</th>\n",
       "      <th>srad</th>\n",
       "      <th>swe</th>\n",
       "      <th>tmax</th>\n",
       "      <th>tmin</th>\n",
       "      <th>vp</th>\n",
       "      <th>Value</th>\n",
       "    </tr>\n",
       "  </thead>\n",
       "  <tbody>\n",
       "    <tr>\n",
       "      <th>0</th>\n",
       "      <td>1990</td>\n",
       "      <td>Illinois</td>\n",
       "      <td>3.785194</td>\n",
       "      <td>367.596117</td>\n",
       "      <td>0.000000</td>\n",
       "      <td>24.704490</td>\n",
       "      <td>12.423544</td>\n",
       "      <td>1550.242718</td>\n",
       "      <td>129.2</td>\n",
       "    </tr>\n",
       "    <tr>\n",
       "      <th>1</th>\n",
       "      <td>1990</td>\n",
       "      <td>Indiana</td>\n",
       "      <td>4.137136</td>\n",
       "      <td>369.957282</td>\n",
       "      <td>0.000000</td>\n",
       "      <td>23.657160</td>\n",
       "      <td>11.640170</td>\n",
       "      <td>1463.786408</td>\n",
       "      <td>130.2</td>\n",
       "    </tr>\n",
       "    <tr>\n",
       "      <th>2</th>\n",
       "      <td>1990</td>\n",
       "      <td>Iowa</td>\n",
       "      <td>3.930825</td>\n",
       "      <td>357.565048</td>\n",
       "      <td>0.000000</td>\n",
       "      <td>23.706917</td>\n",
       "      <td>11.604976</td>\n",
       "      <td>1489.466019</td>\n",
       "      <td>130.2</td>\n",
       "    </tr>\n",
       "    <tr>\n",
       "      <th>3</th>\n",
       "      <td>1990</td>\n",
       "      <td>Kansas</td>\n",
       "      <td>2.703883</td>\n",
       "      <td>383.386408</td>\n",
       "      <td>0.000000</td>\n",
       "      <td>27.561893</td>\n",
       "      <td>13.749393</td>\n",
       "      <td>1670.922330</td>\n",
       "      <td>130.0</td>\n",
       "    </tr>\n",
       "    <tr>\n",
       "      <th>4</th>\n",
       "      <td>1990</td>\n",
       "      <td>Minnesota</td>\n",
       "      <td>3.192961</td>\n",
       "      <td>347.553399</td>\n",
       "      <td>0.514563</td>\n",
       "      <td>21.601942</td>\n",
       "      <td>8.559466</td>\n",
       "      <td>1197.669903</td>\n",
       "      <td>123.8</td>\n",
       "    </tr>\n",
       "  </tbody>\n",
       "</table>\n",
       "</div>"
      ],
      "text/plain": [
       "   year      State      prcp        srad       swe       tmax       tmin  \\\n",
       "0  1990   Illinois  3.785194  367.596117  0.000000  24.704490  12.423544   \n",
       "1  1990    Indiana  4.137136  369.957282  0.000000  23.657160  11.640170   \n",
       "2  1990       Iowa  3.930825  357.565048  0.000000  23.706917  11.604976   \n",
       "3  1990     Kansas  2.703883  383.386408  0.000000  27.561893  13.749393   \n",
       "4  1990  Minnesota  3.192961  347.553399  0.514563  21.601942   8.559466   \n",
       "\n",
       "            vp  Value  \n",
       "0  1550.242718  129.2  \n",
       "1  1463.786408  130.2  \n",
       "2  1489.466019  130.2  \n",
       "3  1670.922330  130.0  \n",
       "4  1197.669903  123.8  "
      ]
     },
     "execution_count": 3,
     "metadata": {},
     "output_type": "execute_result"
    }
   ],
   "source": [
    "c3.head()"
   ]
  },
  {
   "cell_type": "markdown",
   "metadata": {},
   "source": [
    "The dataframe includes the following columns: Year, State, Precipitaion (prcp), Solar radiation (srad), Snow water equivalent (SWE), Maximum temperature (tmax), Minimum temperature (tmin), Vapor pressure (vp), and corn productivity (Value)."
   ]
  },
  {
   "cell_type": "markdown",
   "metadata": {},
   "source": [
    "A correlation matrix shows low correlation coefficients between corn productivity (Value) and the selected climate variables"
   ]
  },
  {
   "cell_type": "code",
   "execution_count": 4,
   "metadata": {},
   "outputs": [
    {
     "data": {
      "text/html": [
       "<style  type=\"text/css\" >\n",
       "    #T_461931a2_87a0_11e9_9d4b_02420af4250drow0_col0 {\n",
       "            background-color:  #023858;\n",
       "        }    #T_461931a2_87a0_11e9_9d4b_02420af4250drow0_col1 {\n",
       "            background-color:  #bbc7e0;\n",
       "        }    #T_461931a2_87a0_11e9_9d4b_02420af4250drow0_col2 {\n",
       "            background-color:  #d6d6e9;\n",
       "        }    #T_461931a2_87a0_11e9_9d4b_02420af4250drow0_col3 {\n",
       "            background-color:  #dbdaeb;\n",
       "        }    #T_461931a2_87a0_11e9_9d4b_02420af4250drow0_col4 {\n",
       "            background-color:  #b8c6e0;\n",
       "        }    #T_461931a2_87a0_11e9_9d4b_02420af4250drow0_col5 {\n",
       "            background-color:  #b7c5df;\n",
       "        }    #T_461931a2_87a0_11e9_9d4b_02420af4250drow0_col6 {\n",
       "            background-color:  #c0c9e2;\n",
       "        }    #T_461931a2_87a0_11e9_9d4b_02420af4250drow0_col7 {\n",
       "            background-color:  #197db7;\n",
       "        }    #T_461931a2_87a0_11e9_9d4b_02420af4250drow1_col0 {\n",
       "            background-color:  #eee8f3;\n",
       "        }    #T_461931a2_87a0_11e9_9d4b_02420af4250drow1_col1 {\n",
       "            background-color:  #023858;\n",
       "        }    #T_461931a2_87a0_11e9_9d4b_02420af4250drow1_col2 {\n",
       "            background-color:  #fff7fb;\n",
       "        }    #T_461931a2_87a0_11e9_9d4b_02420af4250drow1_col3 {\n",
       "            background-color:  #e5e1ef;\n",
       "        }    #T_461931a2_87a0_11e9_9d4b_02420af4250drow1_col4 {\n",
       "            background-color:  #cccfe5;\n",
       "        }    #T_461931a2_87a0_11e9_9d4b_02420af4250drow1_col5 {\n",
       "            background-color:  #60a1ca;\n",
       "        }    #T_461931a2_87a0_11e9_9d4b_02420af4250drow1_col6 {\n",
       "            background-color:  #3991c1;\n",
       "        }    #T_461931a2_87a0_11e9_9d4b_02420af4250drow1_col7 {\n",
       "            background-color:  #94b6d7;\n",
       "        }    #T_461931a2_87a0_11e9_9d4b_02420af4250drow2_col0 {\n",
       "            background-color:  #fff7fb;\n",
       "        }    #T_461931a2_87a0_11e9_9d4b_02420af4250drow2_col1 {\n",
       "            background-color:  #fff7fb;\n",
       "        }    #T_461931a2_87a0_11e9_9d4b_02420af4250drow2_col2 {\n",
       "            background-color:  #023858;\n",
       "        }    #T_461931a2_87a0_11e9_9d4b_02420af4250drow2_col3 {\n",
       "            background-color:  #dfddec;\n",
       "        }    #T_461931a2_87a0_11e9_9d4b_02420af4250drow2_col4 {\n",
       "            background-color:  #056caa;\n",
       "        }    #T_461931a2_87a0_11e9_9d4b_02420af4250drow2_col5 {\n",
       "            background-color:  #63a2cb;\n",
       "        }    #T_461931a2_87a0_11e9_9d4b_02420af4250drow2_col6 {\n",
       "            background-color:  #8fb4d6;\n",
       "        }    #T_461931a2_87a0_11e9_9d4b_02420af4250drow2_col7 {\n",
       "            background-color:  #fff7fb;\n",
       "        }    #T_461931a2_87a0_11e9_9d4b_02420af4250drow3_col0 {\n",
       "            background-color:  #fff7fb;\n",
       "        }    #T_461931a2_87a0_11e9_9d4b_02420af4250drow3_col1 {\n",
       "            background-color:  #dfddec;\n",
       "        }    #T_461931a2_87a0_11e9_9d4b_02420af4250drow3_col2 {\n",
       "            background-color:  #d9d8ea;\n",
       "        }    #T_461931a2_87a0_11e9_9d4b_02420af4250drow3_col3 {\n",
       "            background-color:  #023858;\n",
       "        }    #T_461931a2_87a0_11e9_9d4b_02420af4250drow3_col4 {\n",
       "            background-color:  #fff7fb;\n",
       "        }    #T_461931a2_87a0_11e9_9d4b_02420af4250drow3_col5 {\n",
       "            background-color:  #fff7fb;\n",
       "        }    #T_461931a2_87a0_11e9_9d4b_02420af4250drow3_col6 {\n",
       "            background-color:  #fff7fb;\n",
       "        }    #T_461931a2_87a0_11e9_9d4b_02420af4250drow3_col7 {\n",
       "            background-color:  #efe9f3;\n",
       "        }    #T_461931a2_87a0_11e9_9d4b_02420af4250drow4_col0 {\n",
       "            background-color:  #e6e2ef;\n",
       "        }    #T_461931a2_87a0_11e9_9d4b_02420af4250drow4_col1 {\n",
       "            background-color:  #c4cbe3;\n",
       "        }    #T_461931a2_87a0_11e9_9d4b_02420af4250drow4_col2 {\n",
       "            background-color:  #056ba7;\n",
       "        }    #T_461931a2_87a0_11e9_9d4b_02420af4250drow4_col3 {\n",
       "            background-color:  #fff7fb;\n",
       "        }    #T_461931a2_87a0_11e9_9d4b_02420af4250drow4_col4 {\n",
       "            background-color:  #023858;\n",
       "        }    #T_461931a2_87a0_11e9_9d4b_02420af4250drow4_col5 {\n",
       "            background-color:  #03517e;\n",
       "        }    #T_461931a2_87a0_11e9_9d4b_02420af4250drow4_col6 {\n",
       "            background-color:  #046097;\n",
       "        }    #T_461931a2_87a0_11e9_9d4b_02420af4250drow4_col7 {\n",
       "            background-color:  #dad9ea;\n",
       "        }    #T_461931a2_87a0_11e9_9d4b_02420af4250drow5_col0 {\n",
       "            background-color:  #e4e1ef;\n",
       "        }    #T_461931a2_87a0_11e9_9d4b_02420af4250drow5_col1 {\n",
       "            background-color:  #569dc8;\n",
       "        }    #T_461931a2_87a0_11e9_9d4b_02420af4250drow5_col2 {\n",
       "            background-color:  #5a9ec9;\n",
       "        }    #T_461931a2_87a0_11e9_9d4b_02420af4250drow5_col3 {\n",
       "            background-color:  #fef6fb;\n",
       "        }    #T_461931a2_87a0_11e9_9d4b_02420af4250drow5_col4 {\n",
       "            background-color:  #03517e;\n",
       "        }    #T_461931a2_87a0_11e9_9d4b_02420af4250drow5_col5 {\n",
       "            background-color:  #023858;\n",
       "        }    #T_461931a2_87a0_11e9_9d4b_02420af4250drow5_col6 {\n",
       "            background-color:  #023d60;\n",
       "        }    #T_461931a2_87a0_11e9_9d4b_02420af4250drow5_col7 {\n",
       "            background-color:  #b1c2de;\n",
       "        }    #T_461931a2_87a0_11e9_9d4b_02420af4250drow6_col0 {\n",
       "            background-color:  #e9e5f1;\n",
       "        }    #T_461931a2_87a0_11e9_9d4b_02420af4250drow6_col1 {\n",
       "            background-color:  #328dbf;\n",
       "        }    #T_461931a2_87a0_11e9_9d4b_02420af4250drow6_col2 {\n",
       "            background-color:  #84b0d3;\n",
       "        }    #T_461931a2_87a0_11e9_9d4b_02420af4250drow6_col3 {\n",
       "            background-color:  #fdf5fa;\n",
       "        }    #T_461931a2_87a0_11e9_9d4b_02420af4250drow6_col4 {\n",
       "            background-color:  #046096;\n",
       "        }    #T_461931a2_87a0_11e9_9d4b_02420af4250drow6_col5 {\n",
       "            background-color:  #023d60;\n",
       "        }    #T_461931a2_87a0_11e9_9d4b_02420af4250drow6_col6 {\n",
       "            background-color:  #023858;\n",
       "        }    #T_461931a2_87a0_11e9_9d4b_02420af4250drow6_col7 {\n",
       "            background-color:  #adc1dd;\n",
       "        }    #T_461931a2_87a0_11e9_9d4b_02420af4250drow7_col0 {\n",
       "            background-color:  #308cbe;\n",
       "        }    #T_461931a2_87a0_11e9_9d4b_02420af4250drow7_col1 {\n",
       "            background-color:  #81aed2;\n",
       "        }    #T_461931a2_87a0_11e9_9d4b_02420af4250drow7_col2 {\n",
       "            background-color:  #f3edf5;\n",
       "        }    #T_461931a2_87a0_11e9_9d4b_02420af4250drow7_col3 {\n",
       "            background-color:  #e7e3f0;\n",
       "        }    #T_461931a2_87a0_11e9_9d4b_02420af4250drow7_col4 {\n",
       "            background-color:  #d2d2e7;\n",
       "        }    #T_461931a2_87a0_11e9_9d4b_02420af4250drow7_col5 {\n",
       "            background-color:  #a8bedc;\n",
       "        }    #T_461931a2_87a0_11e9_9d4b_02420af4250drow7_col6 {\n",
       "            background-color:  #a7bddb;\n",
       "        }    #T_461931a2_87a0_11e9_9d4b_02420af4250drow7_col7 {\n",
       "            background-color:  #023858;\n",
       "        }</style>  \n",
       "<table id=\"T_461931a2_87a0_11e9_9d4b_02420af4250d\" > \n",
       "<thead>    <tr> \n",
       "        <th class=\"blank level0\" ></th> \n",
       "        <th class=\"col_heading level0 col0\" >year</th> \n",
       "        <th class=\"col_heading level0 col1\" >prcp</th> \n",
       "        <th class=\"col_heading level0 col2\" >srad</th> \n",
       "        <th class=\"col_heading level0 col3\" >swe</th> \n",
       "        <th class=\"col_heading level0 col4\" >tmax</th> \n",
       "        <th class=\"col_heading level0 col5\" >tmin</th> \n",
       "        <th class=\"col_heading level0 col6\" >vp</th> \n",
       "        <th class=\"col_heading level0 col7\" >Value</th> \n",
       "    </tr></thead> \n",
       "<tbody>    <tr> \n",
       "        <th id=\"T_461931a2_87a0_11e9_9d4b_02420af4250dlevel0_row0\" class=\"row_heading level0 row0\" >year</th> \n",
       "        <td id=\"T_461931a2_87a0_11e9_9d4b_02420af4250drow0_col0\" class=\"data row0 col0\" >1</td> \n",
       "        <td id=\"T_461931a2_87a0_11e9_9d4b_02420af4250drow0_col1\" class=\"data row0 col1\" >0.055</td> \n",
       "        <td id=\"T_461931a2_87a0_11e9_9d4b_02420af4250drow0_col2\" class=\"data row0 col2\" >-0.068</td> \n",
       "        <td id=\"T_461931a2_87a0_11e9_9d4b_02420af4250drow0_col3\" class=\"data row0 col3\" >-0.067</td> \n",
       "        <td id=\"T_461931a2_87a0_11e9_9d4b_02420af4250drow0_col4\" class=\"data row0 col4\" >0.095</td> \n",
       "        <td id=\"T_461931a2_87a0_11e9_9d4b_02420af4250drow0_col5\" class=\"data row0 col5\" >0.1</td> \n",
       "        <td id=\"T_461931a2_87a0_11e9_9d4b_02420af4250drow0_col6\" class=\"data row0 col6\" >0.08</td> \n",
       "        <td id=\"T_461931a2_87a0_11e9_9d4b_02420af4250drow0_col7\" class=\"data row0 col7\" >0.62</td> \n",
       "    </tr>    <tr> \n",
       "        <th id=\"T_461931a2_87a0_11e9_9d4b_02420af4250dlevel0_row1\" class=\"row_heading level0 row1\" >prcp</th> \n",
       "        <td id=\"T_461931a2_87a0_11e9_9d4b_02420af4250drow1_col0\" class=\"data row1 col0\" >0.055</td> \n",
       "        <td id=\"T_461931a2_87a0_11e9_9d4b_02420af4250drow1_col1\" class=\"data row1 col1\" >1</td> \n",
       "        <td id=\"T_461931a2_87a0_11e9_9d4b_02420af4250drow1_col2\" class=\"data row1 col2\" >-0.38</td> \n",
       "        <td id=\"T_461931a2_87a0_11e9_9d4b_02420af4250drow1_col3\" class=\"data row1 col3\" >-0.12</td> \n",
       "        <td id=\"T_461931a2_87a0_11e9_9d4b_02420af4250drow1_col4\" class=\"data row1 col4\" >0.018</td> \n",
       "        <td id=\"T_461931a2_87a0_11e9_9d4b_02420af4250drow1_col5\" class=\"data row1 col5\" >0.39</td> \n",
       "        <td id=\"T_461931a2_87a0_11e9_9d4b_02420af4250drow1_col6\" class=\"data row1 col6\" >0.5</td> \n",
       "        <td id=\"T_461931a2_87a0_11e9_9d4b_02420af4250drow1_col7\" class=\"data row1 col7\" >0.26</td> \n",
       "    </tr>    <tr> \n",
       "        <th id=\"T_461931a2_87a0_11e9_9d4b_02420af4250dlevel0_row2\" class=\"row_heading level0 row2\" >srad</th> \n",
       "        <td id=\"T_461931a2_87a0_11e9_9d4b_02420af4250drow2_col0\" class=\"data row2 col0\" >-0.068</td> \n",
       "        <td id=\"T_461931a2_87a0_11e9_9d4b_02420af4250drow2_col1\" class=\"data row2 col1\" >-0.38</td> \n",
       "        <td id=\"T_461931a2_87a0_11e9_9d4b_02420af4250drow2_col2\" class=\"data row2 col2\" >1</td> \n",
       "        <td id=\"T_461931a2_87a0_11e9_9d4b_02420af4250drow2_col3\" class=\"data row2 col3\" >-0.083</td> \n",
       "        <td id=\"T_461931a2_87a0_11e9_9d4b_02420af4250drow2_col4\" class=\"data row2 col4\" >0.69</td> \n",
       "        <td id=\"T_461931a2_87a0_11e9_9d4b_02420af4250drow2_col5\" class=\"data row2 col5\" >0.38</td> \n",
       "        <td id=\"T_461931a2_87a0_11e9_9d4b_02420af4250drow2_col6\" class=\"data row2 col6\" >0.25</td> \n",
       "        <td id=\"T_461931a2_87a0_11e9_9d4b_02420af4250drow2_col7\" class=\"data row2 col7\" >-0.27</td> \n",
       "    </tr>    <tr> \n",
       "        <th id=\"T_461931a2_87a0_11e9_9d4b_02420af4250dlevel0_row3\" class=\"row_heading level0 row3\" >swe</th> \n",
       "        <td id=\"T_461931a2_87a0_11e9_9d4b_02420af4250drow3_col0\" class=\"data row3 col0\" >-0.067</td> \n",
       "        <td id=\"T_461931a2_87a0_11e9_9d4b_02420af4250drow3_col1\" class=\"data row3 col1\" >-0.12</td> \n",
       "        <td id=\"T_461931a2_87a0_11e9_9d4b_02420af4250drow3_col2\" class=\"data row3 col2\" >-0.083</td> \n",
       "        <td id=\"T_461931a2_87a0_11e9_9d4b_02420af4250drow3_col3\" class=\"data row3 col3\" >1</td> \n",
       "        <td id=\"T_461931a2_87a0_11e9_9d4b_02420af4250drow3_col4\" class=\"data row3 col4\" >-0.33</td> \n",
       "        <td id=\"T_461931a2_87a0_11e9_9d4b_02420af4250drow3_col5\" class=\"data row3 col5\" >-0.33</td> \n",
       "        <td id=\"T_461931a2_87a0_11e9_9d4b_02420af4250drow3_col6\" class=\"data row3 col6\" >-0.31</td> \n",
       "        <td id=\"T_461931a2_87a0_11e9_9d4b_02420af4250drow3_col7\" class=\"data row3 col7\" >-0.13</td> \n",
       "    </tr>    <tr> \n",
       "        <th id=\"T_461931a2_87a0_11e9_9d4b_02420af4250dlevel0_row4\" class=\"row_heading level0 row4\" >tmax</th> \n",
       "        <td id=\"T_461931a2_87a0_11e9_9d4b_02420af4250drow4_col0\" class=\"data row4 col0\" >0.095</td> \n",
       "        <td id=\"T_461931a2_87a0_11e9_9d4b_02420af4250drow4_col1\" class=\"data row4 col1\" >0.018</td> \n",
       "        <td id=\"T_461931a2_87a0_11e9_9d4b_02420af4250drow4_col2\" class=\"data row4 col2\" >0.69</td> \n",
       "        <td id=\"T_461931a2_87a0_11e9_9d4b_02420af4250drow4_col3\" class=\"data row4 col3\" >-0.33</td> \n",
       "        <td id=\"T_461931a2_87a0_11e9_9d4b_02420af4250drow4_col4\" class=\"data row4 col4\" >1</td> \n",
       "        <td id=\"T_461931a2_87a0_11e9_9d4b_02420af4250drow4_col5\" class=\"data row4 col5\" >0.88</td> \n",
       "        <td id=\"T_461931a2_87a0_11e9_9d4b_02420af4250drow4_col6\" class=\"data row4 col6\" >0.79</td> \n",
       "        <td id=\"T_461931a2_87a0_11e9_9d4b_02420af4250drow4_col7\" class=\"data row4 col7\" >-0.0055</td> \n",
       "    </tr>    <tr> \n",
       "        <th id=\"T_461931a2_87a0_11e9_9d4b_02420af4250dlevel0_row5\" class=\"row_heading level0 row5\" >tmin</th> \n",
       "        <td id=\"T_461931a2_87a0_11e9_9d4b_02420af4250drow5_col0\" class=\"data row5 col0\" >0.1</td> \n",
       "        <td id=\"T_461931a2_87a0_11e9_9d4b_02420af4250drow5_col1\" class=\"data row5 col1\" >0.39</td> \n",
       "        <td id=\"T_461931a2_87a0_11e9_9d4b_02420af4250drow5_col2\" class=\"data row5 col2\" >0.38</td> \n",
       "        <td id=\"T_461931a2_87a0_11e9_9d4b_02420af4250drow5_col3\" class=\"data row5 col3\" >-0.33</td> \n",
       "        <td id=\"T_461931a2_87a0_11e9_9d4b_02420af4250drow5_col4\" class=\"data row5 col4\" >0.88</td> \n",
       "        <td id=\"T_461931a2_87a0_11e9_9d4b_02420af4250drow5_col5\" class=\"data row5 col5\" >1</td> \n",
       "        <td id=\"T_461931a2_87a0_11e9_9d4b_02420af4250drow5_col6\" class=\"data row5 col6\" >0.97</td> \n",
       "        <td id=\"T_461931a2_87a0_11e9_9d4b_02420af4250drow5_col7\" class=\"data row5 col7\" >0.17</td> \n",
       "    </tr>    <tr> \n",
       "        <th id=\"T_461931a2_87a0_11e9_9d4b_02420af4250dlevel0_row6\" class=\"row_heading level0 row6\" >vp</th> \n",
       "        <td id=\"T_461931a2_87a0_11e9_9d4b_02420af4250drow6_col0\" class=\"data row6 col0\" >0.08</td> \n",
       "        <td id=\"T_461931a2_87a0_11e9_9d4b_02420af4250drow6_col1\" class=\"data row6 col1\" >0.5</td> \n",
       "        <td id=\"T_461931a2_87a0_11e9_9d4b_02420af4250drow6_col2\" class=\"data row6 col2\" >0.25</td> \n",
       "        <td id=\"T_461931a2_87a0_11e9_9d4b_02420af4250drow6_col3\" class=\"data row6 col3\" >-0.31</td> \n",
       "        <td id=\"T_461931a2_87a0_11e9_9d4b_02420af4250drow6_col4\" class=\"data row6 col4\" >0.79</td> \n",
       "        <td id=\"T_461931a2_87a0_11e9_9d4b_02420af4250drow6_col5\" class=\"data row6 col5\" >0.97</td> \n",
       "        <td id=\"T_461931a2_87a0_11e9_9d4b_02420af4250drow6_col6\" class=\"data row6 col6\" >1</td> \n",
       "        <td id=\"T_461931a2_87a0_11e9_9d4b_02420af4250drow6_col7\" class=\"data row6 col7\" >0.18</td> \n",
       "    </tr>    <tr> \n",
       "        <th id=\"T_461931a2_87a0_11e9_9d4b_02420af4250dlevel0_row7\" class=\"row_heading level0 row7\" >Value</th> \n",
       "        <td id=\"T_461931a2_87a0_11e9_9d4b_02420af4250drow7_col0\" class=\"data row7 col0\" >0.62</td> \n",
       "        <td id=\"T_461931a2_87a0_11e9_9d4b_02420af4250drow7_col1\" class=\"data row7 col1\" >0.26</td> \n",
       "        <td id=\"T_461931a2_87a0_11e9_9d4b_02420af4250drow7_col2\" class=\"data row7 col2\" >-0.27</td> \n",
       "        <td id=\"T_461931a2_87a0_11e9_9d4b_02420af4250drow7_col3\" class=\"data row7 col3\" >-0.13</td> \n",
       "        <td id=\"T_461931a2_87a0_11e9_9d4b_02420af4250drow7_col4\" class=\"data row7 col4\" >-0.0055</td> \n",
       "        <td id=\"T_461931a2_87a0_11e9_9d4b_02420af4250drow7_col5\" class=\"data row7 col5\" >0.17</td> \n",
       "        <td id=\"T_461931a2_87a0_11e9_9d4b_02420af4250drow7_col6\" class=\"data row7 col6\" >0.18</td> \n",
       "        <td id=\"T_461931a2_87a0_11e9_9d4b_02420af4250drow7_col7\" class=\"data row7 col7\" >1</td> \n",
       "    </tr></tbody> \n",
       "</table> "
      ],
      "text/plain": [
       "<pandas.io.formats.style.Styler at 0x7f95aef58748>"
      ]
     },
     "execution_count": 4,
     "metadata": {},
     "output_type": "execute_result"
    }
   ],
   "source": [
    "corr = c3.corr()\n",
    "corr.style.background_gradient().set_precision(2)\n"
   ]
  },
  {
   "cell_type": "markdown",
   "metadata": {},
   "source": [
    "## What is the relationship between corn productivity and the individual climate variables?"
   ]
  },
  {
   "cell_type": "markdown",
   "metadata": {},
   "source": [
    "**Average maximum temperature**"
   ]
  },
  {
   "cell_type": "code",
   "execution_count": 6,
   "metadata": {},
   "outputs": [
    {
     "data": {
      "text/plain": [
       "<seaborn.axisgrid.FacetGrid at 0x7f95a8670198>"
      ]
     },
     "execution_count": 6,
     "metadata": {},
     "output_type": "execute_result"
    },
    {
     "data": {
      "image/png": "[encoded data removed]",
      "text/plain": [
       "<Figure size 330.6x216 with 1 Axes>"
      ]
     },
     "metadata": {},
     "output_type": "display_data"
    }
   ],
   "source": [
    "fg_max = sns.FacetGrid(data=c3, hue='State')\n",
    "fg_max.map(plt.scatter, 'tmax', 'Value').add_legend()\n",
    "fg_max.set(xlabel='Maximum temperature (C)', ylabel='Productivity (bsh/ac)')"
   ]
  },
  {
   "cell_type": "markdown",
   "metadata": {},
   "source": [
    "**Average minimum temperature**"
   ]
  },
  {
   "cell_type": "code",
   "execution_count": 7,
   "metadata": {},
   "outputs": [
    {
     "data": {
      "text/plain": [
       "<seaborn.axisgrid.FacetGrid at 0x7f95a8652518>"
      ]
     },
     "execution_count": 7,
     "metadata": {},
     "output_type": "execute_result"
    },
    {
     "data": {
      "image/png": "[encoded data removed]",
      "text/plain": [
       "<Figure size 330.6x216 with 1 Axes>"
      ]
     },
     "metadata": {},
     "output_type": "display_data"
    }
   ],
   "source": [
    "fg_min = sns.FacetGrid(data=c3, hue='State')\n",
    "fg_min.map(plt.scatter, 'tmin', 'Value').add_legend()\n",
    "fg_min.set(xlabel='Minimum temperature (C)', ylabel='Productivity (bsh/ac)')"
   ]
  },
  {
   "cell_type": "markdown",
   "metadata": {},
   "source": [
    "**Average daily precipitation**"
   ]
  },
  {
   "cell_type": "code",
   "execution_count": 8,
   "metadata": {},
   "outputs": [
    {
     "data": {
      "text/plain": [
       "<seaborn.axisgrid.FacetGrid at 0x7f95a8602080>"
      ]
     },
     "execution_count": 8,
     "metadata": {},
     "output_type": "execute_result"
    },
    {
     "data": {
      "image/png": "[encoded data removed]",
      "text/plain": [
       "<Figure size 330.6x216 with 1 Axes>"
      ]
     },
     "metadata": {},
     "output_type": "display_data"
    }
   ],
   "source": [
    "fg_precip = sns.FacetGrid(data=c3, hue='State')\n",
    "fg_precip.map(plt.scatter, 'prcp', 'Value').add_legend()\n",
    "fg_precip.set(xlabel='Precipitation (mm/day)', ylabel='Productivity (bsh/ac)')"
   ]
  },
  {
   "cell_type": "code",
   "execution_count": 9,
   "metadata": {},
   "outputs": [
    {
     "data": {
      "text/plain": [
       "<seaborn.axisgrid.FacetGrid at 0x7f95a8584e80>"
      ]
     },
     "execution_count": 9,
     "metadata": {},
     "output_type": "execute_result"
    },
    {
     "data": {
      "image/png": "[encoded data removed]",
      "text/plain": [
       "<Figure size 330.6x216 with 1 Axes>"
      ]
     },
     "metadata": {},
     "output_type": "display_data"
    }
   ],
   "source": [
    "fg_vp = sns.FacetGrid(data=c3, hue='State')\n",
    "fg_vp.map(plt.scatter, 'vp', 'Value').add_legend()\n",
    "fg_vp.set(xlabel='Vapor pressure (Pa)', ylabel='Productivity (bsh/ac)')"
   ]
  },
  {
   "cell_type": "code",
   "execution_count": 10,
   "metadata": {},
   "outputs": [
    {
     "data": {
      "text/plain": [
       "<seaborn.axisgrid.FacetGrid at 0x7f95a8529fd0>"
      ]
     },
     "execution_count": 10,
     "metadata": {},
     "output_type": "execute_result"
    },
    {
     "data": {
      "image/png": "[encoded data removed]",
      "text/plain": [
       "<Figure size 330.6x216 with 1 Axes>"
      ]
     },
     "metadata": {},
     "output_type": "display_data"
    }
   ],
   "source": [
    "fg_swe = sns.FacetGrid(data=c3, hue='State')\n",
    "fg_swe.map(plt.scatter, 'prcp', 'Value').add_legend()\n",
    "fg_swe.set(xlabel='Snow water equivalent', ylabel='Productivity (bsh/ac)')"
   ]
  },
  {
   "cell_type": "code",
   "execution_count": 11,
   "metadata": {},
   "outputs": [
    {
     "data": {
      "text/plain": [
       "<seaborn.axisgrid.FacetGrid at 0x7f95a84b4668>"
      ]
     },
     "execution_count": 11,
     "metadata": {},
     "output_type": "execute_result"
    },
    {
     "data": {
      "image/png": "[encoded data removed]",
      "text/plain": [
       "<Figure size 330.6x216 with 1 Axes>"
      ]
     },
     "metadata": {},
     "output_type": "display_data"
    }
   ],
   "source": [
    "fg_srad = sns.FacetGrid(data=c3, hue='State')\n",
    "fg_srad.map(plt.scatter, 'srad', 'Value').add_legend()\n",
    "fg_srad.set(xlabel='Solar radiation(W/m^2)', ylabel='Productivity (bsh/ac)')"
   ]
  },
  {
   "cell_type": "markdown",
   "metadata": {},
   "source": [
    "# Modeling approaches"
   ]
  },
  {
   "cell_type": "markdown",
   "metadata": {},
   "source": [
    "The fist approach was to evaluate a model including as many variables as possible. In this case I created a set of models to estimate corn producntion in response to temperature ( maximum and minumum), Precipitation, Vapor pressure, solar radiation, and Snow Water Equivalent. I used three different models: a Ridge Regression, a Random Forest Regressors, and a Support Vector Machine."
   ]
  },
  {
   "cell_type": "markdown",
   "metadata": {},
   "source": [
    "### Import the test data set"
   ]
  },
  {
   "cell_type": "code",
   "execution_count": 16,
   "metadata": {},
   "outputs": [],
   "source": [
    "test_data = pd.read_csv('test_data3.csv')\n"
   ]
  },
  {
   "cell_type": "code",
   "execution_count": 17,
   "metadata": {},
   "outputs": [
    {
     "data": {
      "text/html": [
       "<div>\n",
       "<style scoped>\n",
       "    .dataframe tbody tr th:only-of-type {\n",
       "        vertical-align: middle;\n",
       "    }\n",
       "\n",
       "    .dataframe tbody tr th {\n",
       "        vertical-align: top;\n",
       "    }\n",
       "\n",
       "    .dataframe thead th {\n",
       "        text-align: right;\n",
       "    }\n",
       "</style>\n",
       "<table border=\"1\" class=\"dataframe\">\n",
       "  <thead>\n",
       "    <tr style=\"text-align: right;\">\n",
       "      <th></th>\n",
       "      <th>year</th>\n",
       "      <th>State</th>\n",
       "      <th>prcp</th>\n",
       "      <th>srad</th>\n",
       "      <th>swe</th>\n",
       "      <th>tmax</th>\n",
       "      <th>tmin</th>\n",
       "      <th>vp</th>\n",
       "      <th>Value</th>\n",
       "    </tr>\n",
       "  </thead>\n",
       "  <tbody>\n",
       "    <tr>\n",
       "      <th>0</th>\n",
       "      <td>2011</td>\n",
       "      <td>Illinois</td>\n",
       "      <td>3.648058</td>\n",
       "      <td>363.592233</td>\n",
       "      <td>0.00000</td>\n",
       "      <td>25.287621</td>\n",
       "      <td>13.231189</td>\n",
       "      <td>1639.077670</td>\n",
       "      <td>160.6</td>\n",
       "    </tr>\n",
       "    <tr>\n",
       "      <th>1</th>\n",
       "      <td>2011</td>\n",
       "      <td>Indiana</td>\n",
       "      <td>4.280340</td>\n",
       "      <td>357.223301</td>\n",
       "      <td>0.00000</td>\n",
       "      <td>24.674757</td>\n",
       "      <td>12.686893</td>\n",
       "      <td>1568.592233</td>\n",
       "      <td>146.2</td>\n",
       "    </tr>\n",
       "    <tr>\n",
       "      <th>2</th>\n",
       "      <td>2011</td>\n",
       "      <td>Iowa</td>\n",
       "      <td>2.918689</td>\n",
       "      <td>361.130097</td>\n",
       "      <td>0.00000</td>\n",
       "      <td>23.882888</td>\n",
       "      <td>11.463592</td>\n",
       "      <td>1474.320388</td>\n",
       "      <td>171.2</td>\n",
       "    </tr>\n",
       "    <tr>\n",
       "      <th>3</th>\n",
       "      <td>2011</td>\n",
       "      <td>Kansas</td>\n",
       "      <td>1.853155</td>\n",
       "      <td>393.522330</td>\n",
       "      <td>0.00000</td>\n",
       "      <td>28.827670</td>\n",
       "      <td>13.715413</td>\n",
       "      <td>1502.233010</td>\n",
       "      <td>105.4</td>\n",
       "    </tr>\n",
       "    <tr>\n",
       "      <th>4</th>\n",
       "      <td>2011</td>\n",
       "      <td>Minnesota</td>\n",
       "      <td>2.740291</td>\n",
       "      <td>345.168932</td>\n",
       "      <td>0.23301</td>\n",
       "      <td>21.058252</td>\n",
       "      <td>9.199636</td>\n",
       "      <td>1252.912621</td>\n",
       "      <td>162.2</td>\n",
       "    </tr>\n",
       "  </tbody>\n",
       "</table>\n",
       "</div>"
      ],
      "text/plain": [
       "   year      State      prcp        srad      swe       tmax       tmin  \\\n",
       "0  2011   Illinois  3.648058  363.592233  0.00000  25.287621  13.231189   \n",
       "1  2011    Indiana  4.280340  357.223301  0.00000  24.674757  12.686893   \n",
       "2  2011       Iowa  2.918689  361.130097  0.00000  23.882888  11.463592   \n",
       "3  2011     Kansas  1.853155  393.522330  0.00000  28.827670  13.715413   \n",
       "4  2011  Minnesota  2.740291  345.168932  0.23301  21.058252   9.199636   \n",
       "\n",
       "            vp  Value  \n",
       "0  1639.077670  160.6  \n",
       "1  1568.592233  146.2  \n",
       "2  1474.320388  171.2  \n",
       "3  1502.233010  105.4  \n",
       "4  1252.912621  162.2  "
      ]
     },
     "execution_count": 17,
     "metadata": {},
     "output_type": "execute_result"
    }
   ],
   "source": [
    "test_data.head()"
   ]
  },
  {
   "cell_type": "code",
   "execution_count": 18,
   "metadata": {},
   "outputs": [],
   "source": [
    "Observados = test_data['Value'].tolist()\n"
   ]
  },
  {
   "cell_type": "markdown",
   "metadata": {},
   "source": [
    "# Full Models"
   ]
  },
  {
   "cell_type": "markdown",
   "metadata": {},
   "source": [
    "## Ridge Regression"
   ]
  },
  {
   "cell_type": "code",
   "execution_count": 19,
   "metadata": {},
   "outputs": [],
   "source": [
    "from sklearn import base\n",
    "from sklearn.pipeline import Pipeline\n",
    "from sklearn.linear_model import Ridge"
   ]
  },
  {
   "cell_type": "markdown",
   "metadata": {},
   "source": [
    "I used ColumnSelectTransformer to select which columns are going to be be used in the Ridge regression model via a pipeline"
   ]
  },
  {
   "cell_type": "code",
   "execution_count": 20,
   "metadata": {},
   "outputs": [],
   "source": [
    "from sklearn import base\n",
    "\n",
    "class ColumnSelectTransformer(base.BaseEstimator, base.TransformerMixin):\n",
    "    \n",
    "    def __init__(self, col_names):\n",
    "        self.col_names = col_names  # We will need these in transform()\n",
    "    \n",
    "    def fit(self, X, y=None):\n",
    "        # This transformer doesn't need to learn anything about the data,\n",
    "        # so it can just return self without any further processing\n",
    "        return self\n",
    "    \n",
    "    def transform(self, X):\n",
    "        return X[self.col_names]\n",
    "                \n",
    "          # Return an array with the same number of rows as X and one\n",
    "        # column for each in self.col_names"
   ]
  },
  {
   "cell_type": "markdown",
   "metadata": {},
   "source": [
    "The pipeline is defined as:"
   ]
  },
  {
   "cell_type": "code",
   "execution_count": 21,
   "metadata": {},
   "outputs": [],
   "source": [
    "ridge_est = Ridge()  \n",
    "corn_pipe2 = Pipeline([\n",
    "        ('cols_selct', ColumnSelectTransformer(['tmax', 'tmin','prcp', 'srad', 'swe','vp'])), \n",
    "        ('ridge', ridge_est)\n",
    "    ])"
   ]
  },
  {
   "cell_type": "markdown",
   "metadata": {},
   "source": [
    "To train the model I use the data training data (1990 to 2010)"
   ]
  },
  {
   "cell_type": "code",
   "execution_count": 22,
   "metadata": {},
   "outputs": [],
   "source": [
    "production=c3[['Value']]"
   ]
  },
  {
   "cell_type": "code",
   "execution_count": 23,
   "metadata": {},
   "outputs": [
    {
     "data": {
      "text/plain": [
       "Pipeline(memory=None,\n",
       "     steps=[('cols_selct', ColumnSelectTransformer(col_names=['tmax', 'tmin', 'prcp', 'srad', 'swe', 'vp'])), ('ridge', Ridge(alpha=1.0, copy_X=True, fit_intercept=True, max_iter=None,\n",
       "   normalize=False, random_state=None, solver='auto', tol=0.001))])"
      ]
     },
     "execution_count": 23,
     "metadata": {},
     "output_type": "execute_result"
    }
   ],
   "source": [
    "corn_pipe2.fit(c3, production)"
   ]
  },
  {
   "cell_type": "code",
   "execution_count": 24,
   "metadata": {},
   "outputs": [],
   "source": [
    "predichos1_1 = corn_pipe2.predict(test_data)"
   ]
  },
  {
   "cell_type": "code",
   "execution_count": 25,
   "metadata": {},
   "outputs": [],
   "source": [
    "predichos2=[]\n",
    "for line in predichos1_1:\n",
    "        predichos2.append(float(line))"
   ]
  },
  {
   "cell_type": "code",
   "execution_count": 26,
   "metadata": {},
   "outputs": [],
   "source": [
    "New_df2 = pd.DataFrame(list(zip(Observados, predichos2)), \n",
    "               columns =['Observed', 'Predicted_2']) \n"
   ]
  },
  {
   "cell_type": "code",
   "execution_count": 27,
   "metadata": {},
   "outputs": [
    {
     "data": {
      "text/plain": [
       "33.84572406998463"
      ]
     },
     "execution_count": 27,
     "metadata": {},
     "output_type": "execute_result"
    }
   ],
   "source": [
    "from sklearn.metrics import mean_squared_error\n",
    "MSE2 = mean_squared_error(Observados,predichos2)\n",
    "RMSE2 = math.sqrt(MSE2)\n",
    "RMSE2"
   ]
  },
  {
   "cell_type": "code",
   "execution_count": 28,
   "metadata": {},
   "outputs": [
    {
     "data": {
      "text/plain": [
       "<seaborn.axisgrid.FacetGrid at 0x7f95a823d9b0>"
      ]
     },
     "execution_count": 28,
     "metadata": {},
     "output_type": "execute_result"
    },
    {
     "data": {
      "image/png": "[encoded data removed]",
      "text/plain": [
       "<Figure size 360x360 with 1 Axes>"
      ]
     },
     "metadata": {},
     "output_type": "display_data"
    }
   ],
   "source": [
    "import seaborn as sns\n",
    "sns.lmplot(x='Observed',y='Predicted_2',data=New_df2,fit_reg=True) \n"
   ]
  },
  {
   "cell_type": "code",
   "execution_count": 29,
   "metadata": {},
   "outputs": [
    {
     "data": {
      "text/html": [
       "<table class=\"simpletable\">\n",
       "<caption>OLS Regression Results</caption>\n",
       "<tr>\n",
       "  <th>Dep. Variable:</th>       <td>Predicted_2</td>   <th>  R-squared:         </th> <td>   0.975</td>\n",
       "</tr>\n",
       "<tr>\n",
       "  <th>Model:</th>                   <td>OLS</td>       <th>  Adj. R-squared:    </th> <td>   0.974</td>\n",
       "</tr>\n",
       "<tr>\n",
       "  <th>Method:</th>             <td>Least Squares</td>  <th>  F-statistic:       </th> <td>   2715.</td>\n",
       "</tr>\n",
       "<tr>\n",
       "  <th>Date:</th>             <td>Wed, 05 Jun 2019</td> <th>  Prob (F-statistic):</th> <td>2.52e-58</td>\n",
       "</tr>\n",
       "<tr>\n",
       "  <th>Time:</th>                 <td>15:25:38</td>     <th>  Log-Likelihood:    </th> <td> -325.47</td>\n",
       "</tr>\n",
       "<tr>\n",
       "  <th>No. Observations:</th>      <td>    72</td>      <th>  AIC:               </th> <td>   652.9</td>\n",
       "</tr>\n",
       "<tr>\n",
       "  <th>Df Residuals:</th>          <td>    71</td>      <th>  BIC:               </th> <td>   655.2</td>\n",
       "</tr>\n",
       "<tr>\n",
       "  <th>Df Model:</th>              <td>     1</td>      <th>                     </th>     <td> </td>   \n",
       "</tr>\n",
       "<tr>\n",
       "  <th>Covariance Type:</th>      <td>nonrobust</td>    <th>                     </th>     <td> </td>   \n",
       "</tr>\n",
       "</table>\n",
       "<table class=\"simpletable\">\n",
       "<tr>\n",
       "      <td></td>        <th>coef</th>     <th>std err</th>      <th>t</th>      <th>P>|t|</th>  <th>[0.025</th>    <th>0.975]</th>  \n",
       "</tr>\n",
       "<tr>\n",
       "  <th>Observed</th> <td>    0.8434</td> <td>    0.016</td> <td>   52.108</td> <td> 0.000</td> <td>    0.811</td> <td>    0.876</td>\n",
       "</tr>\n",
       "</table>\n",
       "<table class=\"simpletable\">\n",
       "<tr>\n",
       "  <th>Omnibus:</th>       <td> 6.964</td> <th>  Durbin-Watson:     </th> <td>   1.973</td>\n",
       "</tr>\n",
       "<tr>\n",
       "  <th>Prob(Omnibus):</th> <td> 0.031</td> <th>  Jarque-Bera (JB):  </th> <td>   6.521</td>\n",
       "</tr>\n",
       "<tr>\n",
       "  <th>Skew:</th>          <td> 0.727</td> <th>  Prob(JB):          </th> <td>  0.0384</td>\n",
       "</tr>\n",
       "<tr>\n",
       "  <th>Kurtosis:</th>      <td> 3.247</td> <th>  Cond. No.          </th> <td>    1.00</td>\n",
       "</tr>\n",
       "</table><br/><br/>Warnings:<br/>[1] Standard Errors assume that the covariance matrix of the errors is correctly specified."
      ],
      "text/plain": [
       "<class 'statsmodels.iolib.summary.Summary'>\n",
       "\"\"\"\n",
       "                            OLS Regression Results                            \n",
       "==============================================================================\n",
       "Dep. Variable:            Predicted_2   R-squared:                       0.975\n",
       "Model:                            OLS   Adj. R-squared:                  0.974\n",
       "Method:                 Least Squares   F-statistic:                     2715.\n",
       "Date:                Wed, 05 Jun 2019   Prob (F-statistic):           2.52e-58\n",
       "Time:                        15:25:38   Log-Likelihood:                -325.47\n",
       "No. Observations:                  72   AIC:                             652.9\n",
       "Df Residuals:                      71   BIC:                             655.2\n",
       "Df Model:                           1                                         \n",
       "Covariance Type:            nonrobust                                         \n",
       "==============================================================================\n",
       "                 coef    std err          t      P>|t|      [0.025      0.975]\n",
       "------------------------------------------------------------------------------\n",
       "Observed       0.8434      0.016     52.108      0.000       0.811       0.876\n",
       "==============================================================================\n",
       "Omnibus:                        6.964   Durbin-Watson:                   1.973\n",
       "Prob(Omnibus):                  0.031   Jarque-Bera (JB):                6.521\n",
       "Skew:                           0.727   Prob(JB):                       0.0384\n",
       "Kurtosis:                       3.247   Cond. No.                         1.00\n",
       "==============================================================================\n",
       "\n",
       "Warnings:\n",
       "[1] Standard Errors assume that the covariance matrix of the errors is correctly specified.\n",
       "\"\"\""
      ]
     },
     "execution_count": 29,
     "metadata": {},
     "output_type": "execute_result"
    }
   ],
   "source": [
    "X2 = New_df2[['Observed']]\n",
    "y2 = New_df2[['Predicted_2']]\n",
    "model2 = OLS(y2,X2).fit()\n",
    "model2.summary()"
   ]
  },
  {
   "cell_type": "markdown",
   "metadata": {},
   "source": [
    "## Random forest estimator"
   ]
  },
  {
   "cell_type": "code",
   "execution_count": 30,
   "metadata": {},
   "outputs": [],
   "source": [
    "from sklearn.ensemble import RandomForestRegressor"
   ]
  },
  {
   "cell_type": "code",
   "execution_count": 31,
   "metadata": {},
   "outputs": [],
   "source": [
    "rf = RandomForestRegressor() \n",
    "corn_pipe3 = Pipeline([\n",
    "        ('cols_selct', ColumnSelectTransformer(['tmax', 'tmin','prcp', 'srad', 'swe','vp'])), \n",
    "        ('RFR', rf)\n",
    "    ])"
   ]
  },
  {
   "cell_type": "code",
   "execution_count": 32,
   "metadata": {},
   "outputs": [
    {
     "data": {
      "text/plain": [
       "Pipeline(memory=None,\n",
       "     steps=[('cols_selct', ColumnSelectTransformer(col_names=['tmax', 'tmin', 'prcp', 'srad', 'swe', 'vp'])), ('RFR', RandomForestRegressor(bootstrap=True, criterion='mse', max_depth=None,\n",
       "           max_features='auto', max_leaf_nodes=None,\n",
       "           min_impurity_decrease=0.0, min_impurity_split=None,\n",
       "           min_samples_leaf=1, min_samples_split=2,\n",
       "           min_weight_fraction_leaf=0.0, n_estimators=10, n_jobs=1,\n",
       "           oob_score=False, random_state=None, verbose=0, warm_start=False))])"
      ]
     },
     "execution_count": 32,
     "metadata": {},
     "output_type": "execute_result"
    }
   ],
   "source": [
    "corn_pipe3.fit(c3, production)"
   ]
  },
  {
   "cell_type": "code",
   "execution_count": 33,
   "metadata": {},
   "outputs": [],
   "source": [
    "predichos_RF1_1 = corn_pipe3.predict(test_data)"
   ]
  },
  {
   "cell_type": "code",
   "execution_count": 34,
   "metadata": {},
   "outputs": [
    {
     "data": {
      "text/plain": [
       "array([134.02, 147.34, 153.18, 129.26, 143.  , 116.14, 141.16, 152.54,\n",
       "       120.22, 136.82, 139.08, 143.28, 134.78, 139.16, 136.4 , 120.16,\n",
       "       139.32, 103.36, 128.8 , 146.86, 153.88, 139.34, 135.4 , 116.9 ,\n",
       "       135.6 , 144.66, 118.92, 152.54, 151.76, 164.14, 136.02, 135.24,\n",
       "       125.84, 140.6 , 149.3 , 108.28, 154.48, 141.32, 148.06, 113.2 ,\n",
       "       147.38, 131.66, 138.88, 136.76, 117.28, 138.56, 144.1 , 162.6 ,\n",
       "       118.12, 139.68, 112.34, 150.52, 141.9 , 138.7 , 112.66, 160.66,\n",
       "       151.26, 119.92, 154.66, 123.8 , 134.32, 150.38, 107.88, 141.64,\n",
       "       138.28, 161.6 , 132.92, 139.46, 119.78, 153.76, 136.76, 118.18])"
      ]
     },
     "execution_count": 34,
     "metadata": {},
     "output_type": "execute_result"
    }
   ],
   "source": [
    "predichos_RF1_1"
   ]
  },
  {
   "cell_type": "code",
   "execution_count": 35,
   "metadata": {},
   "outputs": [
    {
     "data": {
      "text/plain": [
       "72"
      ]
     },
     "execution_count": 35,
     "metadata": {},
     "output_type": "execute_result"
    }
   ],
   "source": [
    "len(predichos_RF1_1)"
   ]
  },
  {
   "cell_type": "code",
   "execution_count": 36,
   "metadata": {},
   "outputs": [],
   "source": [
    "predichos_RF1=[]\n",
    "for line in predichos_RF1_1:\n",
    "        predichos_RF1.append(float(line))\n"
   ]
  },
  {
   "cell_type": "code",
   "execution_count": 37,
   "metadata": {},
   "outputs": [],
   "source": [
    "New_df_RF = pd.DataFrame(list(zip(Observados, predichos_RF1)), \n",
    "               columns =['Observed', 'Predicted']) "
   ]
  },
  {
   "cell_type": "code",
   "execution_count": 38,
   "metadata": {},
   "outputs": [
    {
     "data": {
      "text/plain": [
       "<seaborn.axisgrid.FacetGrid at 0x7f9552115f60>"
      ]
     },
     "execution_count": 38,
     "metadata": {},
     "output_type": "execute_result"
    },
    {
     "data": {
      "image/png": "[encoded data removed]",
      "text/plain": [
       "<Figure size 360x360 with 1 Axes>"
      ]
     },
     "metadata": {},
     "output_type": "display_data"
    }
   ],
   "source": [
    "sns.lmplot(x='Observed',y='Predicted',data=New_df_RF,fit_reg=True) "
   ]
  },
  {
   "cell_type": "code",
   "execution_count": 39,
   "metadata": {},
   "outputs": [],
   "source": [
    "MSE = mean_squared_error(Observados,predichos_RF1)"
   ]
  },
  {
   "cell_type": "code",
   "execution_count": 40,
   "metadata": {},
   "outputs": [
    {
     "data": {
      "text/plain": [
       "34.67433971573535"
      ]
     },
     "execution_count": 40,
     "metadata": {},
     "output_type": "execute_result"
    }
   ],
   "source": [
    "RMSE = math.sqrt(MSE)\n",
    "RMSE"
   ]
  },
  {
   "cell_type": "code",
   "execution_count": 41,
   "metadata": {},
   "outputs": [
    {
     "data": {
      "text/html": [
       "<table class=\"simpletable\">\n",
       "<caption>OLS Regression Results</caption>\n",
       "<tr>\n",
       "  <th>Dep. Variable:</th>        <td>Predicted</td>    <th>  R-squared:         </th> <td>   0.976</td>\n",
       "</tr>\n",
       "<tr>\n",
       "  <th>Model:</th>                   <td>OLS</td>       <th>  Adj. R-squared:    </th> <td>   0.975</td>\n",
       "</tr>\n",
       "<tr>\n",
       "  <th>Method:</th>             <td>Least Squares</td>  <th>  F-statistic:       </th> <td>   2830.</td>\n",
       "</tr>\n",
       "<tr>\n",
       "  <th>Date:</th>             <td>Wed, 05 Jun 2019</td> <th>  Prob (F-statistic):</th> <td>5.99e-59</td>\n",
       "</tr>\n",
       "<tr>\n",
       "  <th>Time:</th>                 <td>15:25:44</td>     <th>  Log-Likelihood:    </th> <td> -323.10</td>\n",
       "</tr>\n",
       "<tr>\n",
       "  <th>No. Observations:</th>      <td>    72</td>      <th>  AIC:               </th> <td>   648.2</td>\n",
       "</tr>\n",
       "<tr>\n",
       "  <th>Df Residuals:</th>          <td>    71</td>      <th>  BIC:               </th> <td>   650.5</td>\n",
       "</tr>\n",
       "<tr>\n",
       "  <th>Df Model:</th>              <td>     1</td>      <th>                     </th>     <td> </td>   \n",
       "</tr>\n",
       "<tr>\n",
       "  <th>Covariance Type:</th>      <td>nonrobust</td>    <th>                     </th>     <td> </td>   \n",
       "</tr>\n",
       "</table>\n",
       "<table class=\"simpletable\">\n",
       "<tr>\n",
       "      <td></td>        <th>coef</th>     <th>std err</th>      <th>t</th>      <th>P>|t|</th>  <th>[0.025</th>    <th>0.975]</th>  \n",
       "</tr>\n",
       "<tr>\n",
       "  <th>Observed</th> <td>    0.8332</td> <td>    0.016</td> <td>   53.201</td> <td> 0.000</td> <td>    0.802</td> <td>    0.864</td>\n",
       "</tr>\n",
       "</table>\n",
       "<table class=\"simpletable\">\n",
       "<tr>\n",
       "  <th>Omnibus:</th>       <td>12.794</td> <th>  Durbin-Watson:     </th> <td>   1.365</td>\n",
       "</tr>\n",
       "<tr>\n",
       "  <th>Prob(Omnibus):</th> <td> 0.002</td> <th>  Jarque-Bera (JB):  </th> <td>  14.555</td>\n",
       "</tr>\n",
       "<tr>\n",
       "  <th>Skew:</th>          <td> 0.845</td> <th>  Prob(JB):          </th> <td>0.000691</td>\n",
       "</tr>\n",
       "<tr>\n",
       "  <th>Kurtosis:</th>      <td> 4.413</td> <th>  Cond. No.          </th> <td>    1.00</td>\n",
       "</tr>\n",
       "</table><br/><br/>Warnings:<br/>[1] Standard Errors assume that the covariance matrix of the errors is correctly specified."
      ],
      "text/plain": [
       "<class 'statsmodels.iolib.summary.Summary'>\n",
       "\"\"\"\n",
       "                            OLS Regression Results                            \n",
       "==============================================================================\n",
       "Dep. Variable:              Predicted   R-squared:                       0.976\n",
       "Model:                            OLS   Adj. R-squared:                  0.975\n",
       "Method:                 Least Squares   F-statistic:                     2830.\n",
       "Date:                Wed, 05 Jun 2019   Prob (F-statistic):           5.99e-59\n",
       "Time:                        15:25:44   Log-Likelihood:                -323.10\n",
       "No. Observations:                  72   AIC:                             648.2\n",
       "Df Residuals:                      71   BIC:                             650.5\n",
       "Df Model:                           1                                         \n",
       "Covariance Type:            nonrobust                                         \n",
       "==============================================================================\n",
       "                 coef    std err          t      P>|t|      [0.025      0.975]\n",
       "------------------------------------------------------------------------------\n",
       "Observed       0.8332      0.016     53.201      0.000       0.802       0.864\n",
       "==============================================================================\n",
       "Omnibus:                       12.794   Durbin-Watson:                   1.365\n",
       "Prob(Omnibus):                  0.002   Jarque-Bera (JB):               14.555\n",
       "Skew:                           0.845   Prob(JB):                     0.000691\n",
       "Kurtosis:                       4.413   Cond. No.                         1.00\n",
       "==============================================================================\n",
       "\n",
       "Warnings:\n",
       "[1] Standard Errors assume that the covariance matrix of the errors is correctly specified.\n",
       "\"\"\""
      ]
     },
     "execution_count": 41,
     "metadata": {},
     "output_type": "execute_result"
    }
   ],
   "source": [
    "X3 = New_df_RF[['Observed']]\n",
    "y3 = New_df_RF[['Predicted']]\n",
    "model2 = OLS(y3,X3).fit()\n",
    "model2.summary()"
   ]
  },
  {
   "cell_type": "markdown",
   "metadata": {},
   "source": [
    "## SVM "
   ]
  },
  {
   "cell_type": "code",
   "execution_count": 42,
   "metadata": {},
   "outputs": [],
   "source": [
    "from sklearn import svm"
   ]
  },
  {
   "cell_type": "code",
   "execution_count": 43,
   "metadata": {},
   "outputs": [],
   "source": [
    "est = svm.SVR(kernel='rbf',gamma='auto')\n",
    "corn_pipe_SVM = Pipeline([\n",
    "        ('cols_selct', ColumnSelectTransformer(['tmax', 'tmin','prcp', 'srad', 'swe','vp'])), \n",
    "        ('svm', est)\n",
    "    ])"
   ]
  },
  {
   "cell_type": "code",
   "execution_count": 44,
   "metadata": {},
   "outputs": [
    {
     "data": {
      "text/plain": [
       "Pipeline(memory=None,\n",
       "     steps=[('cols_selct', ColumnSelectTransformer(col_names=['tmax', 'tmin', 'prcp', 'srad', 'swe', 'vp'])), ('svm', SVR(C=1.0, cache_size=200, coef0=0.0, degree=3, epsilon=0.1, gamma='auto',\n",
       "  kernel='rbf', max_iter=-1, shrinking=True, tol=0.001, verbose=False))])"
      ]
     },
     "execution_count": 44,
     "metadata": {},
     "output_type": "execute_result"
    }
   ],
   "source": [
    "corn_pipe_SVM.fit(c3, production)"
   ]
  },
  {
   "cell_type": "code",
   "execution_count": 45,
   "metadata": {},
   "outputs": [],
   "source": [
    "predicted_SVM = corn_pipe_SVM.predict(test_data)"
   ]
  },
  {
   "cell_type": "code",
   "execution_count": 46,
   "metadata": {},
   "outputs": [
    {
     "data": {
      "text/plain": [
       "72"
      ]
     },
     "execution_count": 46,
     "metadata": {},
     "output_type": "execute_result"
    }
   ],
   "source": [
    "len(predicted_SVM)"
   ]
  },
  {
   "cell_type": "code",
   "execution_count": 47,
   "metadata": {},
   "outputs": [],
   "source": [
    "predichos_SVM1=[]\n",
    "for line in predicted_SVM :\n",
    "        predichos_SVM1.append(float(line))\n"
   ]
  },
  {
   "cell_type": "code",
   "execution_count": 48,
   "metadata": {},
   "outputs": [],
   "source": [
    "New_df_SVM = pd.DataFrame(list(zip(Observados, predichos_SVM1)), \n",
    "               columns =['Observed', 'Predicted']) "
   ]
  },
  {
   "cell_type": "code",
   "execution_count": 49,
   "metadata": {},
   "outputs": [
    {
     "data": {
      "text/plain": [
       "<seaborn.axisgrid.FacetGrid at 0x7f9551c43198>"
      ]
     },
     "execution_count": 49,
     "metadata": {},
     "output_type": "execute_result"
    },
    {
     "data": {
      "image/png": "[encoded data removed]",
      "text/plain": [
       "<Figure size 360x360 with 1 Axes>"
      ]
     },
     "metadata": {},
     "output_type": "display_data"
    }
   ],
   "source": [
    "sns.lmplot(x='Observed',y='Predicted',data=New_df_SVM,fit_reg=True) "
   ]
  },
  {
   "cell_type": "code",
   "execution_count": 50,
   "metadata": {},
   "outputs": [],
   "source": [
    "MSE = mean_squared_error(Observados,predichos_SVM1)"
   ]
  },
  {
   "cell_type": "code",
   "execution_count": 51,
   "metadata": {},
   "outputs": [
    {
     "data": {
      "text/plain": [
       "36.94992700557016"
      ]
     },
     "execution_count": 51,
     "metadata": {},
     "output_type": "execute_result"
    }
   ],
   "source": [
    "RMSE = math.sqrt(MSE)\n",
    "RMSE"
   ]
  },
  {
   "cell_type": "code",
   "execution_count": 52,
   "metadata": {},
   "outputs": [
    {
     "data": {
      "text/html": [
       "<table class=\"simpletable\">\n",
       "<caption>OLS Regression Results</caption>\n",
       "<tr>\n",
       "  <th>Dep. Variable:</th>        <td>Predicted</td>    <th>  R-squared:         </th> <td>   0.970</td>\n",
       "</tr>\n",
       "<tr>\n",
       "  <th>Model:</th>                   <td>OLS</td>       <th>  Adj. R-squared:    </th> <td>   0.969</td>\n",
       "</tr>\n",
       "<tr>\n",
       "  <th>Method:</th>             <td>Least Squares</td>  <th>  F-statistic:       </th> <td>   2270.</td>\n",
       "</tr>\n",
       "<tr>\n",
       "  <th>Date:</th>             <td>Wed, 05 Jun 2019</td> <th>  Prob (F-statistic):</th> <td>1.23e-55</td>\n",
       "</tr>\n",
       "<tr>\n",
       "  <th>Time:</th>                 <td>15:25:50</td>     <th>  Log-Likelihood:    </th> <td> -330.49</td>\n",
       "</tr>\n",
       "<tr>\n",
       "  <th>No. Observations:</th>      <td>    72</td>      <th>  AIC:               </th> <td>   663.0</td>\n",
       "</tr>\n",
       "<tr>\n",
       "  <th>Df Residuals:</th>          <td>    71</td>      <th>  BIC:               </th> <td>   665.3</td>\n",
       "</tr>\n",
       "<tr>\n",
       "  <th>Df Model:</th>              <td>     1</td>      <th>                     </th>     <td> </td>   \n",
       "</tr>\n",
       "<tr>\n",
       "  <th>Covariance Type:</th>      <td>nonrobust</td>    <th>                     </th>     <td> </td>   \n",
       "</tr>\n",
       "</table>\n",
       "<table class=\"simpletable\">\n",
       "<tr>\n",
       "      <td></td>        <th>coef</th>     <th>std err</th>      <th>t</th>      <th>P>|t|</th>  <th>[0.025</th>    <th>0.975]</th>  \n",
       "</tr>\n",
       "<tr>\n",
       "  <th>Observed</th> <td>    0.8268</td> <td>    0.017</td> <td>   47.642</td> <td> 0.000</td> <td>    0.792</td> <td>    0.861</td>\n",
       "</tr>\n",
       "</table>\n",
       "<table class=\"simpletable\">\n",
       "<tr>\n",
       "  <th>Omnibus:</th>       <td> 8.864</td> <th>  Durbin-Watson:     </th> <td>   1.647</td>\n",
       "</tr>\n",
       "<tr>\n",
       "  <th>Prob(Omnibus):</th> <td> 0.012</td> <th>  Jarque-Bera (JB):  </th> <td>   8.632</td>\n",
       "</tr>\n",
       "<tr>\n",
       "  <th>Skew:</th>          <td> 0.827</td> <th>  Prob(JB):          </th> <td>  0.0134</td>\n",
       "</tr>\n",
       "<tr>\n",
       "  <th>Kurtosis:</th>      <td> 3.375</td> <th>  Cond. No.          </th> <td>    1.00</td>\n",
       "</tr>\n",
       "</table><br/><br/>Warnings:<br/>[1] Standard Errors assume that the covariance matrix of the errors is correctly specified."
      ],
      "text/plain": [
       "<class 'statsmodels.iolib.summary.Summary'>\n",
       "\"\"\"\n",
       "                            OLS Regression Results                            \n",
       "==============================================================================\n",
       "Dep. Variable:              Predicted   R-squared:                       0.970\n",
       "Model:                            OLS   Adj. R-squared:                  0.969\n",
       "Method:                 Least Squares   F-statistic:                     2270.\n",
       "Date:                Wed, 05 Jun 2019   Prob (F-statistic):           1.23e-55\n",
       "Time:                        15:25:50   Log-Likelihood:                -330.49\n",
       "No. Observations:                  72   AIC:                             663.0\n",
       "Df Residuals:                      71   BIC:                             665.3\n",
       "Df Model:                           1                                         \n",
       "Covariance Type:            nonrobust                                         \n",
       "==============================================================================\n",
       "                 coef    std err          t      P>|t|      [0.025      0.975]\n",
       "------------------------------------------------------------------------------\n",
       "Observed       0.8268      0.017     47.642      0.000       0.792       0.861\n",
       "==============================================================================\n",
       "Omnibus:                        8.864   Durbin-Watson:                   1.647\n",
       "Prob(Omnibus):                  0.012   Jarque-Bera (JB):                8.632\n",
       "Skew:                           0.827   Prob(JB):                       0.0134\n",
       "Kurtosis:                       3.375   Cond. No.                         1.00\n",
       "==============================================================================\n",
       "\n",
       "Warnings:\n",
       "[1] Standard Errors assume that the covariance matrix of the errors is correctly specified.\n",
       "\"\"\""
      ]
     },
     "execution_count": 52,
     "metadata": {},
     "output_type": "execute_result"
    }
   ],
   "source": [
    "X4 = New_df_SVM[['Observed']]\n",
    "y4 = New_df_SVM[['Predicted']]\n",
    "model2 = OLS(y4,X4).fit()\n",
    "model2.summary()"
   ]
  },
  {
   "cell_type": "markdown",
   "metadata": {},
   "source": [
    "## Comparison of Three Full Models"
   ]
  },
  {
   "cell_type": "code",
   "execution_count": 53,
   "metadata": {},
   "outputs": [
    {
     "data": {
      "text/html": [
       "<div>\n",
       "<style scoped>\n",
       "    .dataframe tbody tr th:only-of-type {\n",
       "        vertical-align: middle;\n",
       "    }\n",
       "\n",
       "    .dataframe tbody tr th {\n",
       "        vertical-align: top;\n",
       "    }\n",
       "\n",
       "    .dataframe thead th {\n",
       "        text-align: right;\n",
       "    }\n",
       "</style>\n",
       "<table border=\"1\" class=\"dataframe\">\n",
       "  <thead>\n",
       "    <tr style=\"text-align: right;\">\n",
       "      <th></th>\n",
       "      <th>Observed</th>\n",
       "      <th>Predicted</th>\n",
       "      <th>Model</th>\n",
       "    </tr>\n",
       "  </thead>\n",
       "  <tbody>\n",
       "    <tr>\n",
       "      <th>0</th>\n",
       "      <td>160.6</td>\n",
       "      <td>145.198123</td>\n",
       "      <td>Ridge</td>\n",
       "    </tr>\n",
       "    <tr>\n",
       "      <th>1</th>\n",
       "      <td>146.2</td>\n",
       "      <td>149.535496</td>\n",
       "      <td>Ridge</td>\n",
       "    </tr>\n",
       "    <tr>\n",
       "      <th>2</th>\n",
       "      <td>171.2</td>\n",
       "      <td>139.360786</td>\n",
       "      <td>Ridge</td>\n",
       "    </tr>\n",
       "    <tr>\n",
       "      <th>3</th>\n",
       "      <td>105.4</td>\n",
       "      <td>128.257864</td>\n",
       "      <td>Ridge</td>\n",
       "    </tr>\n",
       "    <tr>\n",
       "      <th>4</th>\n",
       "      <td>162.2</td>\n",
       "      <td>145.526623</td>\n",
       "      <td>Ridge</td>\n",
       "    </tr>\n",
       "  </tbody>\n",
       "</table>\n",
       "</div>"
      ],
      "text/plain": [
       "   Observed   Predicted  Model\n",
       "0     160.6  145.198123  Ridge\n",
       "1     146.2  149.535496  Ridge\n",
       "2     171.2  139.360786  Ridge\n",
       "3     105.4  128.257864  Ridge\n",
       "4     162.2  145.526623  Ridge"
      ]
     },
     "execution_count": 53,
     "metadata": {},
     "output_type": "execute_result"
    }
   ],
   "source": [
    "#Create a new DF with all the predicted v Observed\n",
    "\n",
    "New_df2.rename(columns={'Predicted_2':'Predicted'}, inplace=True)\n",
    "New_df2['Model'] = 'Ridge'\n",
    "New_df2.head()"
   ]
  },
  {
   "cell_type": "code",
   "execution_count": 54,
   "metadata": {},
   "outputs": [
    {
     "data": {
      "text/html": [
       "<div>\n",
       "<style scoped>\n",
       "    .dataframe tbody tr th:only-of-type {\n",
       "        vertical-align: middle;\n",
       "    }\n",
       "\n",
       "    .dataframe tbody tr th {\n",
       "        vertical-align: top;\n",
       "    }\n",
       "\n",
       "    .dataframe thead th {\n",
       "        text-align: right;\n",
       "    }\n",
       "</style>\n",
       "<table border=\"1\" class=\"dataframe\">\n",
       "  <thead>\n",
       "    <tr style=\"text-align: right;\">\n",
       "      <th></th>\n",
       "      <th>Observed</th>\n",
       "      <th>Predicted</th>\n",
       "      <th>Model</th>\n",
       "    </tr>\n",
       "  </thead>\n",
       "  <tbody>\n",
       "    <tr>\n",
       "      <th>0</th>\n",
       "      <td>160.6</td>\n",
       "      <td>134.02</td>\n",
       "      <td>RFR</td>\n",
       "    </tr>\n",
       "    <tr>\n",
       "      <th>1</th>\n",
       "      <td>146.2</td>\n",
       "      <td>147.34</td>\n",
       "      <td>RFR</td>\n",
       "    </tr>\n",
       "    <tr>\n",
       "      <th>2</th>\n",
       "      <td>171.2</td>\n",
       "      <td>153.18</td>\n",
       "      <td>RFR</td>\n",
       "    </tr>\n",
       "    <tr>\n",
       "      <th>3</th>\n",
       "      <td>105.4</td>\n",
       "      <td>129.26</td>\n",
       "      <td>RFR</td>\n",
       "    </tr>\n",
       "    <tr>\n",
       "      <th>4</th>\n",
       "      <td>162.2</td>\n",
       "      <td>143.00</td>\n",
       "      <td>RFR</td>\n",
       "    </tr>\n",
       "  </tbody>\n",
       "</table>\n",
       "</div>"
      ],
      "text/plain": [
       "   Observed  Predicted Model\n",
       "0     160.6     134.02   RFR\n",
       "1     146.2     147.34   RFR\n",
       "2     171.2     153.18   RFR\n",
       "3     105.4     129.26   RFR\n",
       "4     162.2     143.00   RFR"
      ]
     },
     "execution_count": 54,
     "metadata": {},
     "output_type": "execute_result"
    }
   ],
   "source": [
    "New_df_RF['Model'] = 'RFR'\n",
    "New_df_RF.head()"
   ]
  },
  {
   "cell_type": "code",
   "execution_count": 55,
   "metadata": {},
   "outputs": [
    {
     "data": {
      "text/html": [
       "<div>\n",
       "<style scoped>\n",
       "    .dataframe tbody tr th:only-of-type {\n",
       "        vertical-align: middle;\n",
       "    }\n",
       "\n",
       "    .dataframe tbody tr th {\n",
       "        vertical-align: top;\n",
       "    }\n",
       "\n",
       "    .dataframe thead th {\n",
       "        text-align: right;\n",
       "    }\n",
       "</style>\n",
       "<table border=\"1\" class=\"dataframe\">\n",
       "  <thead>\n",
       "    <tr style=\"text-align: right;\">\n",
       "      <th></th>\n",
       "      <th>Observed</th>\n",
       "      <th>Predicted</th>\n",
       "      <th>Model</th>\n",
       "    </tr>\n",
       "  </thead>\n",
       "  <tbody>\n",
       "    <tr>\n",
       "      <th>0</th>\n",
       "      <td>160.6</td>\n",
       "      <td>136.792871</td>\n",
       "      <td>SVM</td>\n",
       "    </tr>\n",
       "    <tr>\n",
       "      <th>1</th>\n",
       "      <td>146.2</td>\n",
       "      <td>136.793124</td>\n",
       "      <td>SVM</td>\n",
       "    </tr>\n",
       "    <tr>\n",
       "      <th>2</th>\n",
       "      <td>171.2</td>\n",
       "      <td>136.842130</td>\n",
       "      <td>SVM</td>\n",
       "    </tr>\n",
       "    <tr>\n",
       "      <th>3</th>\n",
       "      <td>105.4</td>\n",
       "      <td>136.793124</td>\n",
       "      <td>SVM</td>\n",
       "    </tr>\n",
       "    <tr>\n",
       "      <th>4</th>\n",
       "      <td>162.2</td>\n",
       "      <td>136.799028</td>\n",
       "      <td>SVM</td>\n",
       "    </tr>\n",
       "  </tbody>\n",
       "</table>\n",
       "</div>"
      ],
      "text/plain": [
       "   Observed   Predicted Model\n",
       "0     160.6  136.792871   SVM\n",
       "1     146.2  136.793124   SVM\n",
       "2     171.2  136.842130   SVM\n",
       "3     105.4  136.793124   SVM\n",
       "4     162.2  136.799028   SVM"
      ]
     },
     "execution_count": 55,
     "metadata": {},
     "output_type": "execute_result"
    }
   ],
   "source": [
    "New_df_SVM['Model'] = 'SVM'\n",
    "New_df_SVM.head()"
   ]
  },
  {
   "cell_type": "code",
   "execution_count": 56,
   "metadata": {},
   "outputs": [],
   "source": [
    "Full_model = pd.concat([New_df2, New_df_RF,New_df_SVM ])"
   ]
  },
  {
   "cell_type": "code",
   "execution_count": 58,
   "metadata": {},
   "outputs": [],
   "source": [
    "export_csv = Full_model.to_csv (r'Full_model.csv', index = None, header=True) #Don't forget to add '.csv' at the end of the path"
   ]
  },
  {
   "cell_type": "code",
   "execution_count": 59,
   "metadata": {},
   "outputs": [
    {
     "data": {
      "image/png": "[encoded data removed]",
      "text/plain": [
       "<Figure size 431.225x360 with 1 Axes>"
      ]
     },
     "metadata": {},
     "output_type": "display_data"
    }
   ],
   "source": [
    "sns.set_style(\"white\")\n",
    "sns_plot = sns.lmplot(x='Observed',y='Predicted',hue='Model', data=Full_model,fit_reg=True) \n",
    "sns_plot.savefig(\"fullmodels.png\")"
   ]
  },
  {
   "cell_type": "markdown",
   "metadata": {},
   "source": [
    "The comparison of the three plots shows that SVM is the wost performing out of the three considered models. SVM is predicting the same production value ~139 bu/ac of corn for every observed value. The two remaining models have very similar performance both in terms of AIC and $R^{2}$. However, the ridge regression model has the lowest RMSE (33.85 vs 35.53)."
   ]
  },
  {
   "cell_type": "markdown",
   "metadata": {},
   "source": [
    "# Reduced Models"
   ]
  },
  {
   "cell_type": "markdown",
   "metadata": {},
   "source": [
    "The next step was to to find a more parsimonious model. To achieve this, I compared the same three models (*i.e*. Ridge Regression, Random Forest Regressor, and SVM). But in this case I only considered Temperature (max and min) and Precipitaion as features in the models."
   ]
  },
  {
   "cell_type": "markdown",
   "metadata": {},
   "source": [
    "## Ridge"
   ]
  },
  {
   "cell_type": "code",
   "execution_count": 60,
   "metadata": {},
   "outputs": [],
   "source": [
    "ridge_est = Ridge()  \n",
    "corn_pipe = Pipeline([\n",
    "        ('cols_selct', ColumnSelectTransformer(['tmax', 'tmin','prcp'])), \n",
    "        ('ridge', ridge_est)\n",
    "    ])"
   ]
  },
  {
   "cell_type": "code",
   "execution_count": 61,
   "metadata": {},
   "outputs": [
    {
     "data": {
      "text/plain": [
       "Pipeline(memory=None,\n",
       "     steps=[('cols_selct', ColumnSelectTransformer(col_names=['tmax', 'tmin', 'prcp'])), ('ridge', Ridge(alpha=1.0, copy_X=True, fit_intercept=True, max_iter=None,\n",
       "   normalize=False, random_state=None, solver='auto', tol=0.001))])"
      ]
     },
     "execution_count": 61,
     "metadata": {},
     "output_type": "execute_result"
    }
   ],
   "source": [
    "corn_pipe.fit(c3, production)"
   ]
  },
  {
   "cell_type": "code",
   "execution_count": 62,
   "metadata": {},
   "outputs": [],
   "source": [
    "predichos1 = corn_pipe.predict(test_data)"
   ]
  },
  {
   "cell_type": "code",
   "execution_count": 63,
   "metadata": {},
   "outputs": [],
   "source": [
    "predichos=[]\n",
    "for line in predichos1:\n",
    "        predichos.append(float(line))\n",
    "\n"
   ]
  },
  {
   "cell_type": "code",
   "execution_count": 64,
   "metadata": {},
   "outputs": [],
   "source": [
    "New_df = pd.DataFrame(list(zip(Observados, predichos)), \n",
    "               columns =['Observed', 'Predicted']) "
   ]
  },
  {
   "cell_type": "code",
   "execution_count": 65,
   "metadata": {},
   "outputs": [
    {
     "data": {
      "text/plain": [
       "<seaborn.axisgrid.FacetGrid at 0x7f9551b3bfd0>"
      ]
     },
     "execution_count": 65,
     "metadata": {},
     "output_type": "execute_result"
    },
    {
     "data": {
      "image/png": "[encoded data removed]",
      "text/plain": [
       "<Figure size 360x360 with 1 Axes>"
      ]
     },
     "metadata": {},
     "output_type": "display_data"
    }
   ],
   "source": [
    "import seaborn as sns\n",
    "sns.lmplot(x='Observed',y='Predicted',data=New_df,fit_reg=True) "
   ]
  },
  {
   "cell_type": "code",
   "execution_count": 66,
   "metadata": {},
   "outputs": [],
   "source": [
    "MSE = mean_squared_error(Observados,predichos)"
   ]
  },
  {
   "cell_type": "code",
   "execution_count": 67,
   "metadata": {},
   "outputs": [
    {
     "data": {
      "text/plain": [
       "34.103617357922516"
      ]
     },
     "execution_count": 67,
     "metadata": {},
     "output_type": "execute_result"
    }
   ],
   "source": [
    "RMSE = math.sqrt(MSE)\n",
    "RMSE"
   ]
  },
  {
   "cell_type": "code",
   "execution_count": 68,
   "metadata": {},
   "outputs": [
    {
     "data": {
      "text/html": [
       "<table class=\"simpletable\">\n",
       "<caption>OLS Regression Results</caption>\n",
       "<tr>\n",
       "  <th>Dep. Variable:</th>        <td>Predicted</td>    <th>  R-squared:         </th> <td>   0.977</td>\n",
       "</tr>\n",
       "<tr>\n",
       "  <th>Model:</th>                   <td>OLS</td>       <th>  Adj. R-squared:    </th> <td>   0.976</td>\n",
       "</tr>\n",
       "<tr>\n",
       "  <th>Method:</th>             <td>Least Squares</td>  <th>  F-statistic:       </th> <td>   2975.</td>\n",
       "</tr>\n",
       "<tr>\n",
       "  <th>Date:</th>             <td>Wed, 05 Jun 2019</td> <th>  Prob (F-statistic):</th> <td>1.06e-59</td>\n",
       "</tr>\n",
       "<tr>\n",
       "  <th>Time:</th>                 <td>15:41:43</td>     <th>  Log-Likelihood:    </th> <td> -321.49</td>\n",
       "</tr>\n",
       "<tr>\n",
       "  <th>No. Observations:</th>      <td>    72</td>      <th>  AIC:               </th> <td>   645.0</td>\n",
       "</tr>\n",
       "<tr>\n",
       "  <th>Df Residuals:</th>          <td>    71</td>      <th>  BIC:               </th> <td>   647.3</td>\n",
       "</tr>\n",
       "<tr>\n",
       "  <th>Df Model:</th>              <td>     1</td>      <th>                     </th>     <td> </td>   \n",
       "</tr>\n",
       "<tr>\n",
       "  <th>Covariance Type:</th>      <td>nonrobust</td>    <th>                     </th>     <td> </td>   \n",
       "</tr>\n",
       "</table>\n",
       "<table class=\"simpletable\">\n",
       "<tr>\n",
       "      <td></td>        <th>coef</th>     <th>std err</th>      <th>t</th>      <th>P>|t|</th>  <th>[0.025</th>    <th>0.975]</th>  \n",
       "</tr>\n",
       "<tr>\n",
       "  <th>Observed</th> <td>    0.8353</td> <td>    0.015</td> <td>   54.545</td> <td> 0.000</td> <td>    0.805</td> <td>    0.866</td>\n",
       "</tr>\n",
       "</table>\n",
       "<table class=\"simpletable\">\n",
       "<tr>\n",
       "  <th>Omnibus:</th>       <td> 6.849</td> <th>  Durbin-Watson:     </th> <td>   2.036</td>\n",
       "</tr>\n",
       "<tr>\n",
       "  <th>Prob(Omnibus):</th> <td> 0.033</td> <th>  Jarque-Bera (JB):  </th> <td>   6.519</td>\n",
       "</tr>\n",
       "<tr>\n",
       "  <th>Skew:</th>          <td> 0.733</td> <th>  Prob(JB):          </th> <td>  0.0384</td>\n",
       "</tr>\n",
       "<tr>\n",
       "  <th>Kurtosis:</th>      <td> 3.163</td> <th>  Cond. No.          </th> <td>    1.00</td>\n",
       "</tr>\n",
       "</table><br/><br/>Warnings:<br/>[1] Standard Errors assume that the covariance matrix of the errors is correctly specified."
      ],
      "text/plain": [
       "<class 'statsmodels.iolib.summary.Summary'>\n",
       "\"\"\"\n",
       "                            OLS Regression Results                            \n",
       "==============================================================================\n",
       "Dep. Variable:              Predicted   R-squared:                       0.977\n",
       "Model:                            OLS   Adj. R-squared:                  0.976\n",
       "Method:                 Least Squares   F-statistic:                     2975.\n",
       "Date:                Wed, 05 Jun 2019   Prob (F-statistic):           1.06e-59\n",
       "Time:                        15:41:43   Log-Likelihood:                -321.49\n",
       "No. Observations:                  72   AIC:                             645.0\n",
       "Df Residuals:                      71   BIC:                             647.3\n",
       "Df Model:                           1                                         \n",
       "Covariance Type:            nonrobust                                         \n",
       "==============================================================================\n",
       "                 coef    std err          t      P>|t|      [0.025      0.975]\n",
       "------------------------------------------------------------------------------\n",
       "Observed       0.8353      0.015     54.545      0.000       0.805       0.866\n",
       "==============================================================================\n",
       "Omnibus:                        6.849   Durbin-Watson:                   2.036\n",
       "Prob(Omnibus):                  0.033   Jarque-Bera (JB):                6.519\n",
       "Skew:                           0.733   Prob(JB):                       0.0384\n",
       "Kurtosis:                       3.163   Cond. No.                         1.00\n",
       "==============================================================================\n",
       "\n",
       "Warnings:\n",
       "[1] Standard Errors assume that the covariance matrix of the errors is correctly specified.\n",
       "\"\"\""
      ]
     },
     "execution_count": 68,
     "metadata": {},
     "output_type": "execute_result"
    }
   ],
   "source": [
    "X = New_df[['Observed']]\n",
    "y = New_df[['Predicted']]\n",
    "model2 = OLS(y,X).fit()\n",
    "model2.summary()"
   ]
  },
  {
   "cell_type": "markdown",
   "metadata": {},
   "source": [
    "Because the difference in RMSE and AIC between the six and the three features models is very small, we choose the model eith the fewer features: Maximum temperature, Minimum temperature, and Precipitaion"
   ]
  },
  {
   "cell_type": "markdown",
   "metadata": {},
   "source": [
    "## Random Forest Regresor"
   ]
  },
  {
   "cell_type": "code",
   "execution_count": 69,
   "metadata": {},
   "outputs": [],
   "source": [
    "rf = RandomForestRegressor() \n",
    "corn_pipe3_RFR = Pipeline([\n",
    "        ('cols_selct', ColumnSelectTransformer(['tmax', 'tmin','prcp'])), \n",
    "        ('RFR', rf)\n",
    "    ])"
   ]
  },
  {
   "cell_type": "code",
   "execution_count": 70,
   "metadata": {},
   "outputs": [
    {
     "data": {
      "text/plain": [
       "Pipeline(memory=None,\n",
       "     steps=[('cols_selct', ColumnSelectTransformer(col_names=['tmax', 'tmin', 'prcp'])), ('RFR', RandomForestRegressor(bootstrap=True, criterion='mse', max_depth=None,\n",
       "           max_features='auto', max_leaf_nodes=None,\n",
       "           min_impurity_decrease=0.0, min_impurity_split=None,\n",
       "           min_samples_leaf=1, min_samples_split=2,\n",
       "           min_weight_fraction_leaf=0.0, n_estimators=10, n_jobs=1,\n",
       "           oob_score=False, random_state=None, verbose=0, warm_start=False))])"
      ]
     },
     "execution_count": 70,
     "metadata": {},
     "output_type": "execute_result"
    }
   ],
   "source": [
    "corn_pipe3_RFR.fit(c3, production)"
   ]
  },
  {
   "cell_type": "code",
   "execution_count": 71,
   "metadata": {},
   "outputs": [
    {
     "data": {
      "text/plain": [
       "array([137.26, 151.18, 157.34, 133.36, 126.02, 111.28, 147.94, 160.62,\n",
       "       114.24, 134.24, 137.84, 137.48, 133.36, 146.3 , 130.72, 122.4 ,\n",
       "       156.2 , 114.7 , 131.62, 152.78, 145.22, 125.66, 144.82, 135.64,\n",
       "       140.98, 141.74, 129.64, 148.32, 135.4 , 153.72, 125.74, 145.18,\n",
       "       115.32, 149.42, 159.82, 119.94, 135.92, 143.76, 148.18, 124.82,\n",
       "       145.42, 144.48, 159.72, 127.76, 124.62, 137.74, 151.38, 150.08,\n",
       "       118.58, 145.18, 111.6 , 152.78, 135.72, 131.24, 124.74, 146.36,\n",
       "       148.84, 119.4 , 133.56, 108.66, 149.18, 138.64,  94.82, 141.4 ,\n",
       "       142.64, 167.76, 132.86, 140.56, 134.8 , 148.86, 149.92, 117.12])"
      ]
     },
     "execution_count": 71,
     "metadata": {},
     "output_type": "execute_result"
    }
   ],
   "source": [
    "predichos1_RFR = corn_pipe3_RFR.predict(test_data)\n",
    "predichos1_RFR "
   ]
  },
  {
   "cell_type": "code",
   "execution_count": 72,
   "metadata": {},
   "outputs": [],
   "source": [
    "predichos3_RFR=[]\n",
    "for line in predichos1_RFR:\n",
    "        predichos3_RFR.append(float(line))\n",
    "\n"
   ]
  },
  {
   "cell_type": "code",
   "execution_count": 73,
   "metadata": {},
   "outputs": [
    {
     "data": {
      "text/plain": [
       "72"
      ]
     },
     "execution_count": 73,
     "metadata": {},
     "output_type": "execute_result"
    }
   ],
   "source": [
    "len(predichos3_RFR)"
   ]
  },
  {
   "cell_type": "code",
   "execution_count": 74,
   "metadata": {},
   "outputs": [],
   "source": [
    "New_df_3RF = pd.DataFrame(list(zip(Observados, predichos1_RFR)), \n",
    "               columns =['Observed', 'Predicted']) "
   ]
  },
  {
   "cell_type": "code",
   "execution_count": 75,
   "metadata": {},
   "outputs": [
    {
     "data": {
      "text/plain": [
       "<seaborn.axisgrid.FacetGrid at 0x7f9551ac3550>"
      ]
     },
     "execution_count": 75,
     "metadata": {},
     "output_type": "execute_result"
    },
    {
     "data": {
      "image/png": "[encoded data removed]",
      "text/plain": [
       "<Figure size 360x360 with 1 Axes>"
      ]
     },
     "metadata": {},
     "output_type": "display_data"
    }
   ],
   "source": [
    "sns.lmplot(x='Observed',y='Predicted',data=New_df_3RF ,fit_reg=True) "
   ]
  },
  {
   "cell_type": "code",
   "execution_count": 76,
   "metadata": {},
   "outputs": [],
   "source": [
    "MSE = mean_squared_error(Observados,predichos3_RFR)"
   ]
  },
  {
   "cell_type": "code",
   "execution_count": 77,
   "metadata": {},
   "outputs": [
    {
     "data": {
      "text/plain": [
       "34.84870404492986"
      ]
     },
     "execution_count": 77,
     "metadata": {},
     "output_type": "execute_result"
    }
   ],
   "source": [
    "RMSE = math.sqrt(MSE)\n",
    "RMSE"
   ]
  },
  {
   "cell_type": "code",
   "execution_count": 78,
   "metadata": {},
   "outputs": [
    {
     "data": {
      "text/html": [
       "<table class=\"simpletable\">\n",
       "<caption>OLS Regression Results</caption>\n",
       "<tr>\n",
       "  <th>Dep. Variable:</th>        <td>Predicted</td>    <th>  R-squared:         </th> <td>   0.974</td>\n",
       "</tr>\n",
       "<tr>\n",
       "  <th>Model:</th>                   <td>OLS</td>       <th>  Adj. R-squared:    </th> <td>   0.974</td>\n",
       "</tr>\n",
       "<tr>\n",
       "  <th>Method:</th>             <td>Least Squares</td>  <th>  F-statistic:       </th> <td>   2659.</td>\n",
       "</tr>\n",
       "<tr>\n",
       "  <th>Date:</th>             <td>Wed, 05 Jun 2019</td> <th>  Prob (F-statistic):</th> <td>5.18e-58</td>\n",
       "</tr>\n",
       "<tr>\n",
       "  <th>Time:</th>                 <td>15:41:49</td>     <th>  Log-Likelihood:    </th> <td> -325.54</td>\n",
       "</tr>\n",
       "<tr>\n",
       "  <th>No. Observations:</th>      <td>    72</td>      <th>  AIC:               </th> <td>   653.1</td>\n",
       "</tr>\n",
       "<tr>\n",
       "  <th>Df Residuals:</th>          <td>    71</td>      <th>  BIC:               </th> <td>   655.4</td>\n",
       "</tr>\n",
       "<tr>\n",
       "  <th>Df Model:</th>              <td>     1</td>      <th>                     </th>     <td> </td>   \n",
       "</tr>\n",
       "<tr>\n",
       "  <th>Covariance Type:</th>      <td>nonrobust</td>    <th>                     </th>     <td> </td>   \n",
       "</tr>\n",
       "</table>\n",
       "<table class=\"simpletable\">\n",
       "<tr>\n",
       "      <td></td>        <th>coef</th>     <th>std err</th>      <th>t</th>      <th>P>|t|</th>  <th>[0.025</th>    <th>0.975]</th>  \n",
       "</tr>\n",
       "<tr>\n",
       "  <th>Observed</th> <td>    0.8355</td> <td>    0.016</td> <td>   51.569</td> <td> 0.000</td> <td>    0.803</td> <td>    0.868</td>\n",
       "</tr>\n",
       "</table>\n",
       "<table class=\"simpletable\">\n",
       "<tr>\n",
       "  <th>Omnibus:</th>       <td> 7.842</td> <th>  Durbin-Watson:     </th> <td>   1.366</td>\n",
       "</tr>\n",
       "<tr>\n",
       "  <th>Prob(Omnibus):</th> <td> 0.020</td> <th>  Jarque-Bera (JB):  </th> <td>   7.222</td>\n",
       "</tr>\n",
       "<tr>\n",
       "  <th>Skew:</th>          <td> 0.724</td> <th>  Prob(JB):          </th> <td>  0.0270</td>\n",
       "</tr>\n",
       "<tr>\n",
       "  <th>Kurtosis:</th>      <td> 3.556</td> <th>  Cond. No.          </th> <td>    1.00</td>\n",
       "</tr>\n",
       "</table><br/><br/>Warnings:<br/>[1] Standard Errors assume that the covariance matrix of the errors is correctly specified."
      ],
      "text/plain": [
       "<class 'statsmodels.iolib.summary.Summary'>\n",
       "\"\"\"\n",
       "                            OLS Regression Results                            \n",
       "==============================================================================\n",
       "Dep. Variable:              Predicted   R-squared:                       0.974\n",
       "Model:                            OLS   Adj. R-squared:                  0.974\n",
       "Method:                 Least Squares   F-statistic:                     2659.\n",
       "Date:                Wed, 05 Jun 2019   Prob (F-statistic):           5.18e-58\n",
       "Time:                        15:41:49   Log-Likelihood:                -325.54\n",
       "No. Observations:                  72   AIC:                             653.1\n",
       "Df Residuals:                      71   BIC:                             655.4\n",
       "Df Model:                           1                                         \n",
       "Covariance Type:            nonrobust                                         \n",
       "==============================================================================\n",
       "                 coef    std err          t      P>|t|      [0.025      0.975]\n",
       "------------------------------------------------------------------------------\n",
       "Observed       0.8355      0.016     51.569      0.000       0.803       0.868\n",
       "==============================================================================\n",
       "Omnibus:                        7.842   Durbin-Watson:                   1.366\n",
       "Prob(Omnibus):                  0.020   Jarque-Bera (JB):                7.222\n",
       "Skew:                           0.724   Prob(JB):                       0.0270\n",
       "Kurtosis:                       3.556   Cond. No.                         1.00\n",
       "==============================================================================\n",
       "\n",
       "Warnings:\n",
       "[1] Standard Errors assume that the covariance matrix of the errors is correctly specified.\n",
       "\"\"\""
      ]
     },
     "execution_count": 78,
     "metadata": {},
     "output_type": "execute_result"
    }
   ],
   "source": [
    "X = New_df_3RF[['Observed']]\n",
    "y = New_df_3RF[['Predicted']]\n",
    "model2 = OLS(y,X).fit()\n",
    "model2.summary()"
   ]
  },
  {
   "cell_type": "markdown",
   "metadata": {},
   "source": [
    "## SVM"
   ]
  },
  {
   "cell_type": "code",
   "execution_count": 79,
   "metadata": {},
   "outputs": [],
   "source": [
    "est = svm.SVR(kernel='rbf',gamma='auto')\n",
    "corn_pipe_SVM3 = Pipeline([\n",
    "        ('cols_selct', ColumnSelectTransformer(['tmax', 'tmin','prcp'])), \n",
    "        ('svm', est)\n",
    "    ])"
   ]
  },
  {
   "cell_type": "code",
   "execution_count": 80,
   "metadata": {},
   "outputs": [
    {
     "data": {
      "text/plain": [
       "Pipeline(memory=None,\n",
       "     steps=[('cols_selct', ColumnSelectTransformer(col_names=['tmax', 'tmin', 'prcp'])), ('svm', SVR(C=1.0, cache_size=200, coef0=0.0, degree=3, epsilon=0.1, gamma='auto',\n",
       "  kernel='rbf', max_iter=-1, shrinking=True, tol=0.001, verbose=False))])"
      ]
     },
     "execution_count": 80,
     "metadata": {},
     "output_type": "execute_result"
    }
   ],
   "source": [
    "corn_pipe_SVM3.fit(c3, production)"
   ]
  },
  {
   "cell_type": "code",
   "execution_count": 81,
   "metadata": {},
   "outputs": [],
   "source": [
    "predicted_SVM3 = corn_pipe_SVM3.predict(test_data)"
   ]
  },
  {
   "cell_type": "code",
   "execution_count": 82,
   "metadata": {},
   "outputs": [],
   "source": [
    "predichos_SVM3_1=[]\n",
    "for line in predicted_SVM3 :\n",
    "        predichos_SVM3_1.append(float(line))\n"
   ]
  },
  {
   "cell_type": "code",
   "execution_count": 83,
   "metadata": {},
   "outputs": [],
   "source": [
    "New_df_SVM3 = pd.DataFrame(list(zip(Observados, predichos_SVM3_1)), \n",
    "               columns =['Observed', 'Predicted']) "
   ]
  },
  {
   "cell_type": "code",
   "execution_count": 84,
   "metadata": {},
   "outputs": [
    {
     "data": {
      "text/plain": [
       "<seaborn.axisgrid.FacetGrid at 0x7f9551a32d68>"
      ]
     },
     "execution_count": 84,
     "metadata": {},
     "output_type": "execute_result"
    },
    {
     "data": {
      "image/png": "[encoded data removed]",
      "text/plain": [
       "<Figure size 360x360 with 1 Axes>"
      ]
     },
     "metadata": {},
     "output_type": "display_data"
    }
   ],
   "source": [
    "sns.lmplot(x='Observed',y='Predicted',data=New_df_SVM3,fit_reg=True) "
   ]
  },
  {
   "cell_type": "code",
   "execution_count": 85,
   "metadata": {},
   "outputs": [],
   "source": [
    "MSE = mean_squared_error(Observados,predichos_SVM1)"
   ]
  },
  {
   "cell_type": "code",
   "execution_count": 86,
   "metadata": {},
   "outputs": [
    {
     "data": {
      "text/plain": [
       "36.94992700557016"
      ]
     },
     "execution_count": 86,
     "metadata": {},
     "output_type": "execute_result"
    }
   ],
   "source": [
    "RMSE = math.sqrt(MSE)\n",
    "RMSE"
   ]
  },
  {
   "cell_type": "code",
   "execution_count": 87,
   "metadata": {},
   "outputs": [
    {
     "data": {
      "text/html": [
       "<table class=\"simpletable\">\n",
       "<caption>OLS Regression Results</caption>\n",
       "<tr>\n",
       "  <th>Dep. Variable:</th>        <td>Predicted</td>    <th>  R-squared:         </th> <td>   0.973</td>\n",
       "</tr>\n",
       "<tr>\n",
       "  <th>Model:</th>                   <td>OLS</td>       <th>  Adj. R-squared:    </th> <td>   0.973</td>\n",
       "</tr>\n",
       "<tr>\n",
       "  <th>Method:</th>             <td>Least Squares</td>  <th>  F-statistic:       </th> <td>   2579.</td>\n",
       "</tr>\n",
       "<tr>\n",
       "  <th>Date:</th>             <td>Wed, 05 Jun 2019</td> <th>  Prob (F-statistic):</th> <td>1.50e-57</td>\n",
       "</tr>\n",
       "<tr>\n",
       "  <th>Time:</th>                 <td>15:41:56</td>     <th>  Log-Likelihood:    </th> <td> -325.77</td>\n",
       "</tr>\n",
       "<tr>\n",
       "  <th>No. Observations:</th>      <td>    72</td>      <th>  AIC:               </th> <td>   653.5</td>\n",
       "</tr>\n",
       "<tr>\n",
       "  <th>Df Residuals:</th>          <td>    71</td>      <th>  BIC:               </th> <td>   655.8</td>\n",
       "</tr>\n",
       "<tr>\n",
       "  <th>Df Model:</th>              <td>     1</td>      <th>                     </th>     <td> </td>   \n",
       "</tr>\n",
       "<tr>\n",
       "  <th>Covariance Type:</th>      <td>nonrobust</td>    <th>                     </th>     <td> </td>   \n",
       "</tr>\n",
       "</table>\n",
       "<table class=\"simpletable\">\n",
       "<tr>\n",
       "      <td></td>        <th>coef</th>     <th>std err</th>      <th>t</th>      <th>P>|t|</th>  <th>[0.025</th>    <th>0.975]</th>  \n",
       "</tr>\n",
       "<tr>\n",
       "  <th>Observed</th> <td>    0.8254</td> <td>    0.016</td> <td>   50.782</td> <td> 0.000</td> <td>    0.793</td> <td>    0.858</td>\n",
       "</tr>\n",
       "</table>\n",
       "<table class=\"simpletable\">\n",
       "<tr>\n",
       "  <th>Omnibus:</th>       <td>10.120</td> <th>  Durbin-Watson:     </th> <td>   1.536</td>\n",
       "</tr>\n",
       "<tr>\n",
       "  <th>Prob(Omnibus):</th> <td> 0.006</td> <th>  Jarque-Bera (JB):  </th> <td>  10.037</td>\n",
       "</tr>\n",
       "<tr>\n",
       "  <th>Skew:</th>          <td> 0.875</td> <th>  Prob(JB):          </th> <td> 0.00661</td>\n",
       "</tr>\n",
       "<tr>\n",
       "  <th>Kurtosis:</th>      <td> 3.535</td> <th>  Cond. No.          </th> <td>    1.00</td>\n",
       "</tr>\n",
       "</table><br/><br/>Warnings:<br/>[1] Standard Errors assume that the covariance matrix of the errors is correctly specified."
      ],
      "text/plain": [
       "<class 'statsmodels.iolib.summary.Summary'>\n",
       "\"\"\"\n",
       "                            OLS Regression Results                            \n",
       "==============================================================================\n",
       "Dep. Variable:              Predicted   R-squared:                       0.973\n",
       "Model:                            OLS   Adj. R-squared:                  0.973\n",
       "Method:                 Least Squares   F-statistic:                     2579.\n",
       "Date:                Wed, 05 Jun 2019   Prob (F-statistic):           1.50e-57\n",
       "Time:                        15:41:56   Log-Likelihood:                -325.77\n",
       "No. Observations:                  72   AIC:                             653.5\n",
       "Df Residuals:                      71   BIC:                             655.8\n",
       "Df Model:                           1                                         \n",
       "Covariance Type:            nonrobust                                         \n",
       "==============================================================================\n",
       "                 coef    std err          t      P>|t|      [0.025      0.975]\n",
       "------------------------------------------------------------------------------\n",
       "Observed       0.8254      0.016     50.782      0.000       0.793       0.858\n",
       "==============================================================================\n",
       "Omnibus:                       10.120   Durbin-Watson:                   1.536\n",
       "Prob(Omnibus):                  0.006   Jarque-Bera (JB):               10.037\n",
       "Skew:                           0.875   Prob(JB):                      0.00661\n",
       "Kurtosis:                       3.535   Cond. No.                         1.00\n",
       "==============================================================================\n",
       "\n",
       "Warnings:\n",
       "[1] Standard Errors assume that the covariance matrix of the errors is correctly specified.\n",
       "\"\"\""
      ]
     },
     "execution_count": 87,
     "metadata": {},
     "output_type": "execute_result"
    }
   ],
   "source": [
    "X4 = New_df_SVM3[['Observed']]\n",
    "y4 = New_df_SVM3[['Predicted']]\n",
    "model2 = OLS(y4,X4).fit()\n",
    "model2.summary()"
   ]
  },
  {
   "cell_type": "markdown",
   "metadata": {},
   "source": [
    "## Comparing the Three Reduced Models"
   ]
  },
  {
   "cell_type": "code",
   "execution_count": 88,
   "metadata": {},
   "outputs": [],
   "source": [
    "New_df2['Model']='Ridge'\n",
    "New_df_3RF['Model']='RFR'\n",
    "New_df_SVM3['Model']='SVM'\n",
    "Reduced_model = pd.concat([New_df2, New_df_3RF,New_df_SVM3 ])"
   ]
  },
  {
   "cell_type": "code",
   "execution_count": 89,
   "metadata": {},
   "outputs": [],
   "source": [
    "export_csv = Reduced_model.to_csv (r'Reduced_model.csv', index = None, header=True) #Don't forget to add '.csv' at the end of the path"
   ]
  },
  {
   "cell_type": "code",
   "execution_count": 90,
   "metadata": {},
   "outputs": [
    {
     "data": {
      "image/png": "[encoded data removed]",
      "text/plain": [
       "<Figure size 431.225x360 with 1 Axes>"
      ]
     },
     "metadata": {},
     "output_type": "display_data"
    }
   ],
   "source": [
    "sns_plot = sns.lmplot(x='Observed',y='Predicted',hue='Model', data=Reduced_model,fit_reg=True) \n",
    "sns_plot.savefig(\"reducedmodels.png\")\n"
   ]
  },
  {
   "cell_type": "markdown",
   "metadata": {},
   "source": [
    "In the case of the reduced models, the performance was similar to that of the ful models. Ridge regression was the best performing of the three considered models. Ridge Rgression was the lowest RMSE and AIC, as well as the highest $R_{2}$. It is important to notice that the difference between the full and the reduced models is minimal, therefore the more parsimonious (fewer features) model will be used to estimate future corn productivity."
   ]
  },
  {
   "cell_type": "markdown",
   "metadata": {},
   "source": [
    "# Future corn productivity estimation"
   ]
  },
  {
   "cell_type": "markdown",
   "metadata": {},
   "source": [
    "## How is the climate expected to change?"
   ]
  },
  {
   "cell_type": "markdown",
   "metadata": {},
   "source": [
    "Import the estimated future climate data. This data set includes the estimated mean temperature (max and min) and precipitation for each of the nine states in the corn belt. The series includes data for the period of time between 2019 and 2050.\n",
    "\n",
    "The two climate changes scenarios I am considering here are: RCP4.5 and RCP8.5 (RCP4 & RCP8 hereafter). These are averaged models than summarize information from 30 individual climate change models that are included in the 5th Climate Model Interncomparison Program (CIMP5).\n",
    "\n",
    "RCP4 is the most likely scenario and it is the equivalent of reaching a greenhouse gas concetration that estabilizes so that we do not to exceed a radiative equivalent of 4.5 Wm-2 after 2100. That would be the equivalent of 650 ppm CO2, a 250 ppm increase over the current global average. RCP8 is a more aggresive scenario. It is the equivalent of a 1370 ppm CO2 which would lead to a 8.5 Wm-2 radiative equivalence.  For more information about the models please visit (https://www2.usgs.gov/landresources/lcs/nccv.asp)"
   ]
  },
  {
   "cell_type": "code",
   "execution_count": null,
   "metadata": {},
   "outputs": [],
   "source": []
  },
  {
   "cell_type": "markdown",
   "metadata": {
    "heading_collapsed": true
   },
   "source": [
    "### Import data"
   ]
  },
  {
   "cell_type": "code",
   "execution_count": 91,
   "metadata": {
    "hidden": true
   },
   "outputs": [],
   "source": [
    "future_climate = pd.read_csv('Future_climate3.csv')"
   ]
  },
  {
   "cell_type": "code",
   "execution_count": 92,
   "metadata": {
    "hidden": true
   },
   "outputs": [
    {
     "data": {
      "text/html": [
       "<div>\n",
       "<style scoped>\n",
       "    .dataframe tbody tr th:only-of-type {\n",
       "        vertical-align: middle;\n",
       "    }\n",
       "\n",
       "    .dataframe tbody tr th {\n",
       "        vertical-align: top;\n",
       "    }\n",
       "\n",
       "    .dataframe thead th {\n",
       "        text-align: right;\n",
       "    }\n",
       "</style>\n",
       "<table border=\"1\" class=\"dataframe\">\n",
       "  <thead>\n",
       "    <tr style=\"text-align: right;\">\n",
       "      <th></th>\n",
       "      <th>Year</th>\n",
       "      <th>State</th>\n",
       "      <th>RCP4_Tmax</th>\n",
       "      <th>RCP4_Tmin</th>\n",
       "      <th>RCP4_Precip</th>\n",
       "      <th>RCP8_Tmax</th>\n",
       "      <th>RCP8_Tmin</th>\n",
       "      <th>RCP8_Precip</th>\n",
       "    </tr>\n",
       "  </thead>\n",
       "  <tbody>\n",
       "    <tr>\n",
       "      <th>0</th>\n",
       "      <td>2019</td>\n",
       "      <td>Illinois</td>\n",
       "      <td>26.542143</td>\n",
       "      <td>13.406429</td>\n",
       "      <td>90.617000</td>\n",
       "      <td>26.806714</td>\n",
       "      <td>13.661571</td>\n",
       "      <td>86.324143</td>\n",
       "    </tr>\n",
       "    <tr>\n",
       "      <th>1</th>\n",
       "      <td>2019</td>\n",
       "      <td>Indiana</td>\n",
       "      <td>25.968286</td>\n",
       "      <td>12.729429</td>\n",
       "      <td>94.128286</td>\n",
       "      <td>26.240429</td>\n",
       "      <td>12.999429</td>\n",
       "      <td>92.010429</td>\n",
       "    </tr>\n",
       "    <tr>\n",
       "      <th>2</th>\n",
       "      <td>2019</td>\n",
       "      <td>Iowa</td>\n",
       "      <td>25.234571</td>\n",
       "      <td>12.032000</td>\n",
       "      <td>93.734857</td>\n",
       "      <td>25.367857</td>\n",
       "      <td>12.200857</td>\n",
       "      <td>86.615571</td>\n",
       "    </tr>\n",
       "    <tr>\n",
       "      <th>3</th>\n",
       "      <td>2019</td>\n",
       "      <td>Kansas</td>\n",
       "      <td>28.891429</td>\n",
       "      <td>13.850429</td>\n",
       "      <td>74.711286</td>\n",
       "      <td>28.749429</td>\n",
       "      <td>13.857571</td>\n",
       "      <td>75.639714</td>\n",
       "    </tr>\n",
       "    <tr>\n",
       "      <th>4</th>\n",
       "      <td>2019</td>\n",
       "      <td>Minnesota</td>\n",
       "      <td>22.390571</td>\n",
       "      <td>8.958286</td>\n",
       "      <td>79.235429</td>\n",
       "      <td>22.250571</td>\n",
       "      <td>9.030429</td>\n",
       "      <td>78.829286</td>\n",
       "    </tr>\n",
       "  </tbody>\n",
       "</table>\n",
       "</div>"
      ],
      "text/plain": [
       "   Year      State  RCP4_Tmax  RCP4_Tmin  RCP4_Precip  RCP8_Tmax  RCP8_Tmin  \\\n",
       "0  2019   Illinois  26.542143  13.406429    90.617000  26.806714  13.661571   \n",
       "1  2019    Indiana  25.968286  12.729429    94.128286  26.240429  12.999429   \n",
       "2  2019       Iowa  25.234571  12.032000    93.734857  25.367857  12.200857   \n",
       "3  2019     Kansas  28.891429  13.850429    74.711286  28.749429  13.857571   \n",
       "4  2019  Minnesota  22.390571   8.958286    79.235429  22.250571   9.030429   \n",
       "\n",
       "   RCP8_Precip  \n",
       "0    86.324143  \n",
       "1    92.010429  \n",
       "2    86.615571  \n",
       "3    75.639714  \n",
       "4    78.829286  "
      ]
     },
     "execution_count": 92,
     "metadata": {},
     "output_type": "execute_result"
    }
   ],
   "source": [
    "future_climate.head()"
   ]
  },
  {
   "cell_type": "markdown",
   "metadata": {
    "hidden": true
   },
   "source": [
    "Next step is to create two test data sets, one for each climate change scenario"
   ]
  },
  {
   "cell_type": "code",
   "execution_count": 93,
   "metadata": {
    "hidden": true
   },
   "outputs": [],
   "source": [
    "RCP4_test = future_climate[['Year','State','RCP4_Tmax', 'RCP4_Tmin','RCP4_Precip']]\n",
    "RCP8_test = future_climate[['Year','State','RCP8_Tmax', 'RCP8_Tmin','RCP8_Precip']]"
   ]
  },
  {
   "cell_type": "code",
   "execution_count": 94,
   "metadata": {
    "hidden": true
   },
   "outputs": [],
   "source": [
    "nombres2 = ['year',\n",
    " 'State',\n",
    " 'tmax',\n",
    " 'tmin',\n",
    " 'prcp']"
   ]
  },
  {
   "cell_type": "code",
   "execution_count": 95,
   "metadata": {
    "hidden": true
   },
   "outputs": [],
   "source": [
    "RCP4_test.columns = nombres2\n",
    "RCP8_test.columns = nombres2"
   ]
  },
  {
   "cell_type": "markdown",
   "metadata": {
    "hidden": true
   },
   "source": [
    "Once I have the predicted future climate data I will use the ridge regression model to predict corn yield using temperature (max and min) and precipitation."
   ]
  },
  {
   "cell_type": "code",
   "execution_count": 96,
   "metadata": {
    "hidden": true
   },
   "outputs": [],
   "source": [
    "predicted_RCP4_1 = corn_pipe.predict(RCP4_test)\n",
    "predicted_RCP8_1 = corn_pipe.predict(RCP8_test)"
   ]
  },
  {
   "cell_type": "markdown",
   "metadata": {
    "heading_collapsed": true
   },
   "source": [
    "### Next steps are a set of data organization and formating to create a final dataframe that inlcudes Year, Productivity, and Scenario used"
   ]
  },
  {
   "cell_type": "code",
   "execution_count": 97,
   "metadata": {
    "hidden": true
   },
   "outputs": [],
   "source": [
    "predicted_RCP4=[]\n",
    "for line in predicted_RCP4_1:\n",
    "        predicted_RCP4.append(float(line))"
   ]
  },
  {
   "cell_type": "code",
   "execution_count": 98,
   "metadata": {
    "hidden": true
   },
   "outputs": [],
   "source": [
    "predicted_RCP8=[]\n",
    "for line in predicted_RCP8_1:\n",
    "        predicted_RCP8.append(float(line))"
   ]
  },
  {
   "cell_type": "markdown",
   "metadata": {
    "hidden": true
   },
   "source": [
    "Create a new data frame that includes year, state, predicted, and scenario (RCP4 or RCP8)"
   ]
  },
  {
   "cell_type": "code",
   "execution_count": 99,
   "metadata": {
    "hidden": true
   },
   "outputs": [],
   "source": [
    "Future_production_1 = future_climate[['Year','State']]"
   ]
  },
  {
   "cell_type": "code",
   "execution_count": 100,
   "metadata": {
    "hidden": true
   },
   "outputs": [
    {
     "data": {
      "text/plain": [
       "288"
      ]
     },
     "execution_count": 100,
     "metadata": {},
     "output_type": "execute_result"
    }
   ],
   "source": [
    "len(predicted_RCP4)"
   ]
  },
  {
   "cell_type": "code",
   "execution_count": 101,
   "metadata": {
    "hidden": true
   },
   "outputs": [],
   "source": [
    "Future_production_1['Predicted'] = predicted_RCP4"
   ]
  },
  {
   "cell_type": "code",
   "execution_count": 102,
   "metadata": {
    "hidden": true
   },
   "outputs": [],
   "source": [
    "Future_production_1['Scenario']='RCP4'"
   ]
  },
  {
   "cell_type": "code",
   "execution_count": 103,
   "metadata": {
    "hidden": true
   },
   "outputs": [],
   "source": [
    "Future_production_2 = future_climate[['Year','State']]"
   ]
  },
  {
   "cell_type": "code",
   "execution_count": 104,
   "metadata": {
    "hidden": true
   },
   "outputs": [],
   "source": [
    "Future_production_2['Predicted'] = predicted_RCP8"
   ]
  },
  {
   "cell_type": "code",
   "execution_count": 105,
   "metadata": {
    "hidden": true
   },
   "outputs": [],
   "source": [
    "Future_production_2['Scenario']='RCP8'"
   ]
  },
  {
   "cell_type": "code",
   "execution_count": 106,
   "metadata": {
    "hidden": true
   },
   "outputs": [
    {
     "data": {
      "text/plain": [
       "(288, 4)"
      ]
     },
     "execution_count": 106,
     "metadata": {},
     "output_type": "execute_result"
    }
   ],
   "source": [
    "Future_production_2.shape"
   ]
  },
  {
   "cell_type": "code",
   "execution_count": 107,
   "metadata": {
    "hidden": true
   },
   "outputs": [],
   "source": [
    "Future_production = pd.concat([Future_production_1,Future_production_2 ])"
   ]
  },
  {
   "cell_type": "code",
   "execution_count": 108,
   "metadata": {
    "hidden": true
   },
   "outputs": [
    {
     "data": {
      "text/html": [
       "<div>\n",
       "<style scoped>\n",
       "    .dataframe tbody tr th:only-of-type {\n",
       "        vertical-align: middle;\n",
       "    }\n",
       "\n",
       "    .dataframe tbody tr th {\n",
       "        vertical-align: top;\n",
       "    }\n",
       "\n",
       "    .dataframe thead th {\n",
       "        text-align: right;\n",
       "    }\n",
       "</style>\n",
       "<table border=\"1\" class=\"dataframe\">\n",
       "  <thead>\n",
       "    <tr style=\"text-align: right;\">\n",
       "      <th></th>\n",
       "      <th>Year</th>\n",
       "      <th>State</th>\n",
       "      <th>Predicted</th>\n",
       "      <th>Scenario</th>\n",
       "    </tr>\n",
       "  </thead>\n",
       "  <tbody>\n",
       "    <tr>\n",
       "      <th>0</th>\n",
       "      <td>2019</td>\n",
       "      <td>Illinois</td>\n",
       "      <td>54.437366</td>\n",
       "      <td>RCP4</td>\n",
       "    </tr>\n",
       "    <tr>\n",
       "      <th>1</th>\n",
       "      <td>2019</td>\n",
       "      <td>Indiana</td>\n",
       "      <td>49.146288</td>\n",
       "      <td>RCP4</td>\n",
       "    </tr>\n",
       "    <tr>\n",
       "      <th>2</th>\n",
       "      <td>2019</td>\n",
       "      <td>Iowa</td>\n",
       "      <td>48.666935</td>\n",
       "      <td>RCP4</td>\n",
       "    </tr>\n",
       "    <tr>\n",
       "      <th>3</th>\n",
       "      <td>2019</td>\n",
       "      <td>Kansas</td>\n",
       "      <td>54.503824</td>\n",
       "      <td>RCP4</td>\n",
       "    </tr>\n",
       "    <tr>\n",
       "      <th>4</th>\n",
       "      <td>2019</td>\n",
       "      <td>Minnesota</td>\n",
       "      <td>55.420329</td>\n",
       "      <td>RCP4</td>\n",
       "    </tr>\n",
       "  </tbody>\n",
       "</table>\n",
       "</div>"
      ],
      "text/plain": [
       "   Year      State  Predicted Scenario\n",
       "0  2019   Illinois  54.437366     RCP4\n",
       "1  2019    Indiana  49.146288     RCP4\n",
       "2  2019       Iowa  48.666935     RCP4\n",
       "3  2019     Kansas  54.503824     RCP4\n",
       "4  2019  Minnesota  55.420329     RCP4"
      ]
     },
     "execution_count": 108,
     "metadata": {},
     "output_type": "execute_result"
    }
   ],
   "source": [
    "Future_production.head()"
   ]
  },
  {
   "cell_type": "code",
   "execution_count": 109,
   "metadata": {
    "hidden": true
   },
   "outputs": [
    {
     "data": {
      "text/plain": [
       "Year           int64\n",
       "State         object\n",
       "Predicted    float64\n",
       "Scenario      object\n",
       "dtype: object"
      ]
     },
     "execution_count": 109,
     "metadata": {},
     "output_type": "execute_result"
    }
   ],
   "source": [
    "Future_production.dtypes"
   ]
  },
  {
   "cell_type": "code",
   "execution_count": 110,
   "metadata": {
    "hidden": true
   },
   "outputs": [],
   "source": [
    "export_csv =Future_production.to_csv (r'Future_production.csv', index = None, header=True) #Don't forget to add '.csv' at the end of the path"
   ]
  },
  {
   "cell_type": "markdown",
   "metadata": {},
   "source": [
    "## Comparison of estimated corn productivity under two different climate change scenarios"
   ]
  },
  {
   "cell_type": "code",
   "execution_count": 111,
   "metadata": {},
   "outputs": [
    {
     "data": {
      "image/png": "[encoded data removed]",
      "text/plain": [
       "<Figure size 432x288 with 1 Axes>"
      ]
     },
     "metadata": {},
     "output_type": "display_data"
    }
   ],
   "source": [
    "\n",
    "ax = sns.lineplot(x=\"Year\", y=\"Predicted\", hue=\"Scenario\", data=Future_production)\n",
    "ax.set(xlabel='Year', ylabel='Predicted corn production (bu/ac)')\n",
    "sns.despine()\n",
    "sns_plot.savefig(\"future_production.png\")\n",
    "plt.show()"
   ]
  },
  {
   "cell_type": "markdown",
   "metadata": {},
   "source": [
    "# Conclusion"
   ]
  },
  {
   "cell_type": "markdown",
   "metadata": {},
   "source": [
    "As the consequences of climate change become more evident, we need to prepare our food production systems to be resilient to those changes. The US is the world largest corn producer in the world, and approximately 75% of the production comes from the corn belt region. \n",
    "In this study I limited my models to three important climate variables: maximum temperature, minimum temperature, and precipitation. Not only because these variables have been shown to directly impact plant productivity but also because they included in most climate change models. Using the RCP4 and RCP8 averaged models I found very similar predictions in corn productivity. One possible explanation for the lack of response to increased temperatures is the fact that corn has what is know as a C4 photosynthesis pathway. Plants with this pathway have anatomical and biochemical adaptations that allow the plant to function and thrive under warm weather conditions. Therefore, it is possible that as climate in the corn belt increases, the conditions would become even more favorable for this crop.\n",
    "Nonetheless, I only considered three environmental variables, and a more exhaustive exploration is needed. To better predict how climate change would impact corn production, we need to explore how other processes would be impacted by climate change. For example, even if there are no changes in predicted average precipitation, the timing and frequency of rain would have serious implications, as seen by the severe floods that occurred this year in parts of the corn belt.\n",
    "Asides from the climate variables, human processes may also impact future corn productivity. From market forces to the policies that maintain government subsidies. As we move forward, we need a more comprehensive approach to better understand how corn productivity will be impacted by climate change. \n"
   ]
  },
  {
   "cell_type": "markdown",
   "metadata": {},
   "source": [
    "# Future directions"
   ]
  },
  {
   "cell_type": "markdown",
   "metadata": {},
   "source": [
    "The next steps I will be taking witht this analysis include a more detailled evaluation of different climate variables in the predictive power of the models. I will be splitting the growing season in two. The idea is to evaluate if the climate condition in the first 100 days of the growing season (when plants are stablishing) and in the last 100 days of the growing season (grain filling stage) have a differential effect on the estimated corn productivity."
   ]
  },
  {
   "cell_type": "markdown",
   "metadata": {},
   "source": [
    "# About Me"
   ]
  },
  {
   "cell_type": "markdown",
   "metadata": {},
   "source": [
    "I am a plant eco-physiologist by training and a problem solver by nature. As plant ecologist I work on complex systems, and I am interested in the relationships between the physical environment and the performance and distribution of plants. As a plant physiologist I am interested in mechanisms behind plant responses. Because natural systems tend to be noisy, I have develop a strong interest in statistical analysis such as: Hypothesis Testing, Causal Inference, Regression Analysis, Mixed Effect Models, as a way to gain insight from data. As a data scientist I am interesting in predictive modeling using machine learning approaches. I want to focous on the developement of models with high predictive power while maintaining high explainability as a way to effectively transfer knowledge and further the understanding of data."
   ]
  },
  {
   "cell_type": "markdown",
   "metadata": {},
   "source": [
    "## Email:\n",
    "\n",
    "    hernandez.leo@gmail.com \n",
    "    \n",
    "## LinkdIn:\n",
    "\n",
    "    https://www.linkedin.com/in/leonardo-hernandez-27b87740/"
   ]
  }
 ],
 "metadata": {
  "kernelspec": {
   "display_name": "Python 3",
   "language": "python",
   "name": "python3"
  },
  "language_info": {
   "codemirror_mode": {
    "name": "ipython",
    "version": 3
   },
   "file_extension": ".py",
   "mimetype": "text/x-python",
   "name": "python",
   "nbconvert_exporter": "python",
   "pygments_lexer": "ipython3",
   "version": "3.7.3"
  }
 },
 "nbformat": 4,
 "nbformat_minor": 2
}
